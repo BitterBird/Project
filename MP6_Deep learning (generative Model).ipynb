{
 "cells": [
  {
   "cell_type": "markdown",
   "id": "03d8c331",
   "metadata": {},
   "source": [
    "Magnetic"
   ]
  },
  {
   "cell_type": "code",
   "execution_count": 1,
   "id": "81f74014",
   "metadata": {},
   "outputs": [
    {
     "name": "stdout",
     "output_type": "stream",
     "text": [
      "Populating the interactive namespace from numpy and matplotlib\n"
     ]
    }
   ],
   "source": [
    "%pylab inline\n",
    "import pandas as pd\n",
    "import os\n",
    "os.environ[\"CUDA_VISIBLE_DEVICES\"] = \"-1\"\n",
    "import tensorflow as tf\n",
    "from sklearn.preprocessing import OneHotEncoder\n",
    "from tensorflow import keras\n",
    "from tensorflow.keras import Model\n",
    "from tensorflow.keras.callbacks import EarlyStopping\n",
    "from tensorflow.keras.layers import Dense, Concatenate, InputLayer, Input, Layer"
   ]
  },
  {
   "cell_type": "code",
   "execution_count": null,
   "id": "dac70249",
   "metadata": {},
   "outputs": [],
   "source": []
  },
  {
   "cell_type": "code",
   "execution_count": null,
   "id": "847db9bf",
   "metadata": {},
   "outputs": [],
   "source": []
  },
  {
   "cell_type": "code",
   "execution_count": 2,
   "id": "a14700a8",
   "metadata": {},
   "outputs": [],
   "source": [
    "dataset=pd.read_csv(\"Wolverton_ABO3_perovskites.csv\")"
   ]
  },
  {
   "cell_type": "code",
   "execution_count": null,
   "id": "4cb9825e",
   "metadata": {},
   "outputs": [],
   "source": []
  },
  {
   "cell_type": "code",
   "execution_count": 3,
   "id": "78f9484d",
   "metadata": {},
   "outputs": [],
   "source": [
    "dataset.loc[dataset[\"Magnetic moment [mu_B]\"]==\"-\",\"Magnetic moment [mu_B]\"]=0.0\n",
    "dataset[\"Magnetic moment [mu_B]\"]=dataset[\"Magnetic moment [mu_B]\"].astype(float)"
   ]
  },
  {
   "cell_type": "code",
   "execution_count": 4,
   "id": "ee976935",
   "metadata": {},
   "outputs": [],
   "source": [
    "dataset.loc[dataset[\"Magnetic moment [mu_B]\"].abs()<=1e-2,\"is_magnetic\"]=False"
   ]
  },
  {
   "cell_type": "code",
   "execution_count": 5,
   "id": "f25b885c",
   "metadata": {},
   "outputs": [
    {
     "data": {
      "image/png": "[encoded data removed]",
      "text/plain": [
       "<Figure size 432x288 with 1 Axes>"
      ]
     },
     "metadata": {
      "needs_background": "light"
     },
     "output_type": "display_data"
    }
   ],
   "source": [
    "dataset.loc[dataset[\"Magnetic moment [mu_B]\"].abs()>1e-2,\"is_magnetic\"]=True\n",
    "dataset[\"Magnetic moment [mu_B]\"].hist(bins=100);"
   ]
  },
  {
   "cell_type": "code",
   "execution_count": 6,
   "id": "63aaf1b4",
   "metadata": {},
   "outputs": [
    {
     "data": {
      "text/plain": [
       "(5276, 21)"
      ]
     },
     "execution_count": 6,
     "metadata": {},
     "output_type": "execute_result"
    }
   ],
   "source": [
    "dataset=dataset.drop(columns=\"Vacancy energy [eV/O atom]\")\n",
    "dataset=dataset[~dataset[dataset==\"-\"].any(axis=1)]\n",
    "dataset.shape"
   ]
  },
  {
   "cell_type": "code",
   "execution_count": 7,
   "id": "1f6e701d",
   "metadata": {},
   "outputs": [],
   "source": [
    "dataset=dataset[dataset[\"Formation energy [eV/atom]\"]!=\"-\"].copy()"
   ]
  },
  {
   "cell_type": "code",
   "execution_count": 8,
   "id": "e16a96f4",
   "metadata": {},
   "outputs": [],
   "source": [
    "dataset[\"Formation energy [eV/atom]\"]=dataset[\"Formation energy [eV/atom]\"].astype(float)"
   ]
  },
  {
   "cell_type": "code",
   "execution_count": 9,
   "id": "be6b5891",
   "metadata": {},
   "outputs": [
    {
     "data": {
      "image/png": "[encoded data removed]",
      "text/plain": [
       "<Figure size 432x288 with 1 Axes>"
      ]
     },
     "metadata": {
      "needs_background": "light"
     },
     "output_type": "display_data"
    }
   ],
   "source": [
    "dataset[\"Formation energy [eV/atom]\"].hist(bins=100);"
   ]
  },
  {
   "cell_type": "code",
   "execution_count": 10,
   "id": "5322f3b9",
   "metadata": {},
   "outputs": [],
   "source": [
    "dataset[\"Stability [eV/atom]\"]=dataset[\"Stability [eV/atom]\"].astype(float)\n",
    "dataset[\"Volume per atom [A^3/atom]\"]=dataset[\"Volume per atom [A^3/atom]\"].astype(float)"
   ]
  },
  {
   "cell_type": "code",
   "execution_count": 11,
   "id": "86346965",
   "metadata": {},
   "outputs": [
    {
     "data": {
      "image/png": "[encoded data removed]",
      "text/plain": [
       "<Figure size 432x288 with 1 Axes>"
      ]
     },
     "metadata": {
      "needs_background": "light"
     },
     "output_type": "display_data"
    }
   ],
   "source": [
    "dataset[\"Stability [eV/atom]\"].hist(bins=100);"
   ]
  },
  {
   "cell_type": "code",
   "execution_count": 12,
   "id": "f39f240d",
   "metadata": {},
   "outputs": [
    {
     "data": {
      "text/plain": [
       "True     2775\n",
       "False    2501\n",
       "Name: is_magnetic, dtype: int64"
      ]
     },
     "execution_count": 12,
     "metadata": {},
     "output_type": "execute_result"
    }
   ],
   "source": [
    "dataset[\"is_magnetic\"].value_counts()"
   ]
  },
  {
   "cell_type": "code",
   "execution_count": 13,
   "id": "0bc30057",
   "metadata": {},
   "outputs": [],
   "source": [
    "dataset[\"is_ns\"]=dataset[\"Stability [eV/atom]\"]>0.5"
   ]
  },
  {
   "cell_type": "code",
   "execution_count": 14,
   "id": "533b1ca2",
   "metadata": {},
   "outputs": [
    {
     "data": {
      "text/plain": [
       "True     3145\n",
       "False    2131\n",
       "Name: is_ns, dtype: int64"
      ]
     },
     "execution_count": 14,
     "metadata": {},
     "output_type": "execute_result"
    }
   ],
   "source": [
    "dataset[\"is_ns\"].value_counts()"
   ]
  },
  {
   "cell_type": "code",
   "execution_count": 15,
   "id": "ff222369",
   "metadata": {},
   "outputs": [],
   "source": [
    "dataset[\"AB_tuple\"]=dataset.apply(lambda r: (r[\"A\"],r[\"B\"]), axis=1)"
   ]
  },
  {
   "cell_type": "markdown",
   "id": "3e22b469",
   "metadata": {},
   "source": [
    "### OneHotEncoder()"
   ]
  },
  {
   "cell_type": "code",
   "execution_count": 86,
   "id": "70973fa5",
   "metadata": {},
   "outputs": [],
   "source": [
    "ohe=OneHotEncoder()"
   ]
  },
  {
   "cell_type": "code",
   "execution_count": 87,
   "id": "8ef664fc",
   "metadata": {},
   "outputs": [],
   "source": [
    "elements = np.array(sorted(set(dataset[\"A\"]) | set(dataset[\"B\"])))"
   ]
  },
  {
   "cell_type": "code",
   "execution_count": 88,
   "id": "c425fb78",
   "metadata": {},
   "outputs": [
    {
     "data": {
      "text/plain": [
       "73"
      ]
     },
     "execution_count": 88,
     "metadata": {},
     "output_type": "execute_result"
    }
   ],
   "source": [
    "NUM_OF_ELEMENTS = len(elements)\n",
    "NUM_OF_ELEMENTS"
   ]
  },
  {
   "cell_type": "code",
   "execution_count": 162,
   "id": "2d992bab",
   "metadata": {},
   "outputs": [],
   "source": [
    "ohe.fit(elements.reshape(-1,1));"
   ]
  },
  {
   "cell_type": "code",
   "execution_count": 163,
   "id": "90bee0a7",
   "metadata": {},
   "outputs": [],
   "source": [
    "np.random.seed(42)\n",
    "dataset[\"is_train\"]=np.random.rand(len(dataset))>0.5"
   ]
  },
  {
   "cell_type": "code",
   "execution_count": 214,
   "id": "0bdd2d9f",
   "metadata": {},
   "outputs": [],
   "source": [
    "ds_train=dataset[dataset[\"is_train\"]]\n",
    "ds_test=dataset[~dataset[\"is_train\"]]"
   ]
  },
  {
   "cell_type": "code",
   "execution_count": 215,
   "id": "dda5da7d",
   "metadata": {},
   "outputs": [],
   "source": [
    "oheA_labels_train=ohe.transform(ds_train[\"A\"].values.reshape(-1,1)).toarray()\n",
    "oheA_labels_test=ohe.transform(ds_test[\"A\"].values.reshape(-1,1)).toarray()"
   ]
  },
  {
   "cell_type": "code",
   "execution_count": 216,
   "id": "c3b2ddf7",
   "metadata": {},
   "outputs": [],
   "source": [
    "oheB_labels_train = ohe.transform(ds_train[\"B\"].values.reshape(-1,1)).toarray()\n",
    "oheB_labels_test  = ohe.transform(ds_test[\"B\"].values.reshape(-1,1)).toarray()"
   ]
  },
  {
   "cell_type": "code",
   "execution_count": 217,
   "id": "f3ae689e",
   "metadata": {},
   "outputs": [],
   "source": [
    "is_magnetic_train=ds_train[\"is_magnetic\"].astype(float)\n",
    "is_magnetic_test=ds_test[\"is_magnetic\"].astype(float)"
   ]
  },
  {
   "cell_type": "code",
   "execution_count": 218,
   "id": "5a8c43cf",
   "metadata": {},
   "outputs": [],
   "source": [
    "is_ns_train = ds_train[\"is_ns\"].astype(float)\n",
    "is_ns_test  = ds_test[\"is_ns\"].astype(float)"
   ]
  },
  {
   "cell_type": "code",
   "execution_count": 219,
   "id": "32f4966e",
   "metadata": {},
   "outputs": [],
   "source": [
    "class Sampling(Layer):\n",
    "    \"\"\"Uses (z_mean, z_log_var) to sample z, the vector encoding a sample.\"\"\"\n",
    "\n",
    "    def call(self, inputs):\n",
    "        z_mean, z_log_var = inputs\n",
    "        batch = tf.shape(z_mean)[0]\n",
    "        dim = tf.shape(z_mean)[1]\n",
    "        epsilon = tf.keras.backend.random_normal(shape=(batch, dim),  dtype=tf.float32)\n",
    "        return z_mean + tf.exp(0.5 * z_log_var) * epsilon"
   ]
  },
  {
   "cell_type": "code",
   "execution_count": 220,
   "id": "a5c08173",
   "metadata": {},
   "outputs": [],
   "source": [
    "latent_dim=25 # latent dimension space\n",
    "dense_dim=[300,200,100,50] # number of neurons in hidden layers"
   ]
  },
  {
   "cell_type": "code",
   "execution_count": 239,
   "id": "d1c1acd8",
   "metadata": {},
   "outputs": [],
   "source": [
    "# four inputs: ele A, ele B, is_stable, is_magnetic#\n",
    "from tensorflow.keras.layers import Dense, LeakyReLU, Activation\n",
    "\n",
    "\n",
    "inp_A_OHE = Input(shape=(NUM_OF_ELEMENTS,), name=\"inp_A_OHE\")\n",
    "inp_B_OHE = Input(shape=(NUM_OF_ELEMENTS,), name=\"inp_B_OHE\")\n",
    "inp_is_ns = Input(shape=(1,), name=\"inp_is_ns\")\n",
    "inp_is_magnetic = Input(shape=(1,), name=\"inp_is_magnetic\")\n",
    "\n",
    "# glue all four inputs together\n",
    "concat_input = Concatenate(name=\"concat_inp\")([inp_A_OHE,inp_B_OHE,inp_is_ns,inp_is_magnetic])"
   ]
  },
  {
   "cell_type": "code",
   "execution_count": 293,
   "id": "a575b110",
   "metadata": {},
   "outputs": [],
   "source": [
    "# encoder part (simple fully connected NN)\n",
    "d1=Dense(dense_dim[0], activation=\"selu\",name=\"encoder_dense1\")(concat_input)\n",
    "d2=Dense(dense_dim[1], activation=\"selu\",name=\"encoder_dense2\")(d1)\n",
    "d3=Dense(dense_dim[2], activation=\"tanh\",name=\"encoder_dense3\")(d2)\n",
    "d4=Dense(dense_dim[2], activation=\"tanh\",name=\"encoder_dense4\")(d3)\n",
    "\n",
    "z_mean = Dense(latent_dim, name=\"z_mean\")(d4)\n",
    "z_log_var = Dense(latent_dim, name=\"z_log_var\")(d4)\n",
    "\n",
    "# one of the output of encoder: randomly sampled latent variable Z\n",
    "z = Sampling(name=\"z_sampling\")([z_mean, z_log_var])"
   ]
  },
  {
   "cell_type": "code",
   "execution_count": 294,
   "id": "d3143578",
   "metadata": {},
   "outputs": [
    {
     "name": "stdout",
     "output_type": "stream",
     "text": [
      "Model: \"encoder\"\n",
      "__________________________________________________________________________________________________\n",
      "Layer (type)                    Output Shape         Param #     Connected to                     \n",
      "==================================================================================================\n",
      "inp_A_OHE (InputLayer)          [(None, 73)]         0                                            \n",
      "__________________________________________________________________________________________________\n",
      "inp_B_OHE (InputLayer)          [(None, 73)]         0                                            \n",
      "__________________________________________________________________________________________________\n",
      "inp_is_ns (InputLayer)          [(None, 1)]          0                                            \n",
      "__________________________________________________________________________________________________\n",
      "inp_is_magnetic (InputLayer)    [(None, 1)]          0                                            \n",
      "__________________________________________________________________________________________________\n",
      "concat_inp (Concatenate)        (None, 148)          0           inp_A_OHE[0][0]                  \n",
      "                                                                 inp_B_OHE[0][0]                  \n",
      "                                                                 inp_is_ns[0][0]                  \n",
      "                                                                 inp_is_magnetic[0][0]            \n",
      "__________________________________________________________________________________________________\n",
      "encoder_dense1 (Dense)          (None, 300)          44700       concat_inp[0][0]                 \n",
      "__________________________________________________________________________________________________\n",
      "encoder_dense2 (Dense)          (None, 200)          60200       encoder_dense1[0][0]             \n",
      "__________________________________________________________________________________________________\n",
      "encoder_dense3 (Dense)          (None, 100)          20100       encoder_dense2[0][0]             \n",
      "__________________________________________________________________________________________________\n",
      "encoder_dense4 (Dense)          (None, 100)          10100       encoder_dense3[0][0]             \n",
      "__________________________________________________________________________________________________\n",
      "z_mean (Dense)                  (None, 25)           2525        encoder_dense4[0][0]             \n",
      "__________________________________________________________________________________________________\n",
      "z_log_var (Dense)               (None, 25)           2525        encoder_dense4[0][0]             \n",
      "__________________________________________________________________________________________________\n",
      "z_sampling (Sampling)           (None, 25)           0           z_mean[0][0]                     \n",
      "                                                                 z_log_var[0][0]                  \n",
      "==================================================================================================\n",
      "Total params: 140,150\n",
      "Trainable params: 140,150\n",
      "Non-trainable params: 0\n",
      "__________________________________________________________________________________________________\n"
     ]
    }
   ],
   "source": [
    "encoder = Model(\n",
    "    # four inputs\n",
    "    inputs=[inp_A_OHE, inp_B_OHE, inp_is_magnetic, inp_is_ns],\n",
    "    \n",
    "    # three outputs, but z depends on z_mean and z_log_var\n",
    "    outputs=[z_mean, z_log_var, z], \n",
    "    \n",
    "    name=\"encoder\"\n",
    ")\n",
    "\n",
    "encoder.summary()"
   ]
  },
  {
   "cell_type": "code",
   "execution_count": 295,
   "id": "6ab3d85f",
   "metadata": {},
   "outputs": [],
   "source": [
    "z_input =Input(shape=(latent_dim,), name=\"inpd_z\")"
   ]
  },
  {
   "cell_type": "code",
   "execution_count": 296,
   "id": "4c253c8d",
   "metadata": {},
   "outputs": [],
   "source": [
    "concat_input_decoder = Concatenate(name=\"decoder_concat_input\")([z_input, inp_is_magnetic, inp_is_ns])"
   ]
  },
  {
   "cell_type": "code",
   "execution_count": 297,
   "id": "fac9b678",
   "metadata": {},
   "outputs": [],
   "source": [
    "from tensorflow.keras.layers import Dense, LeakyReLU, Activation\n",
    "\n",
    "\n",
    "d1 = Dense(dense_dim[0], activation=\"selu\", name=\"decoder_dense1\")(concat_input_decoder)\n",
    " # ELU activation here SELU\n",
    "d2 = Dense(dense_dim[1], activation=\"selu\", name=\"decoder_dense2\")(d1)\n",
    "d3 = Dense(dense_dim[2], activation=\"tanh\", name=\"decoder_dense3\")(d2)\n",
    "d4 = Dense(dense_dim[3], activation=\"tanh\", name=\"decoder_dense4\")(d3)\n",
    "\n",
    "\n"
   ]
  },
  {
   "cell_type": "code",
   "execution_count": 298,
   "id": "3855b684",
   "metadata": {},
   "outputs": [],
   "source": [
    "out_A_OHE = Dense(NUM_OF_ELEMENTS, activation=\"softmax\", name=\"out_A_OHE\")(d4)\n",
    "out_B_OHE = Dense(NUM_OF_ELEMENTS, activation=\"softmax\", name=\"out_B_OHE\")(d4)"
   ]
  },
  {
   "cell_type": "code",
   "execution_count": 299,
   "id": "b14e1376",
   "metadata": {},
   "outputs": [
    {
     "name": "stdout",
     "output_type": "stream",
     "text": [
      "Model: \"decoder\"\n",
      "__________________________________________________________________________________________________\n",
      "Layer (type)                    Output Shape         Param #     Connected to                     \n",
      "==================================================================================================\n",
      "inpd_z (InputLayer)             [(None, 25)]         0                                            \n",
      "__________________________________________________________________________________________________\n",
      "inp_is_magnetic (InputLayer)    [(None, 1)]          0                                            \n",
      "__________________________________________________________________________________________________\n",
      "inp_is_ns (InputLayer)          [(None, 1)]          0                                            \n",
      "__________________________________________________________________________________________________\n",
      "decoder_concat_input (Concatena (None, 27)           0           inpd_z[0][0]                     \n",
      "                                                                 inp_is_magnetic[0][0]            \n",
      "                                                                 inp_is_ns[0][0]                  \n",
      "__________________________________________________________________________________________________\n",
      "decoder_dense1 (Dense)          (None, 300)          8400        decoder_concat_input[0][0]       \n",
      "__________________________________________________________________________________________________\n",
      "decoder_dense2 (Dense)          (None, 200)          60200       decoder_dense1[0][0]             \n",
      "__________________________________________________________________________________________________\n",
      "decoder_dense3 (Dense)          (None, 100)          20100       decoder_dense2[0][0]             \n",
      "__________________________________________________________________________________________________\n",
      "decoder_dense4 (Dense)          (None, 50)           5050        decoder_dense3[0][0]             \n",
      "__________________________________________________________________________________________________\n",
      "out_A_OHE (Dense)               (None, 73)           3723        decoder_dense4[0][0]             \n",
      "__________________________________________________________________________________________________\n",
      "out_B_OHE (Dense)               (None, 73)           3723        decoder_dense4[0][0]             \n",
      "==================================================================================================\n",
      "Total params: 101,196\n",
      "Trainable params: 101,196\n",
      "Non-trainable params: 0\n",
      "__________________________________________________________________________________________________\n"
     ]
    }
   ],
   "source": [
    "decoder = Model(\n",
    "        inputs=[z_input, inp_is_magnetic, inp_is_ns], \n",
    "        outputs=[out_A_OHE, out_B_OHE], \n",
    "        name=\"decoder\") \n",
    "\n",
    "# summary\n",
    "decoder.summary()"
   ]
  },
  {
   "cell_type": "code",
   "execution_count": 300,
   "id": "b4ed70ae",
   "metadata": {},
   "outputs": [],
   "source": [
    "class ConditionalVAE(Model):\n",
    "    def __init__(self, encoder, decoder, **kwargs):\n",
    "        super(ConditionalVAE, self).__init__(**kwargs)\n",
    "        self.encoder = encoder\n",
    "        self.decoder = decoder\n",
    "        \n",
    "        self.total_loss_tracker = keras.metrics.Mean(name=\"total_loss\")\n",
    "        self.reconstruction_loss_tracker = keras.metrics.Mean(name=\"reconstruction_loss\")\n",
    "        self.kl_loss_tracker = keras.metrics.Mean(name=\"kl_loss\")\n",
    "        \n",
    "        \n",
    "\n",
    "    @property\n",
    "    def metrics(self):\n",
    "        return [\n",
    "            self.total_loss_tracker,\n",
    "            self.reconstruction_loss_tracker,\n",
    "            self.kl_loss_tracker,\n",
    "        ]\n",
    "    \n",
    "    # custom train step\n",
    "    def train_step(self, data):\n",
    "        # split data tuple into (inp)ut and (out)put\n",
    "        inp, out = data \n",
    "        # split inp and out into four inputs and two outputs further \n",
    "        [inp_A_OHE, inp_A_OHE,  inp_is_magnetic, inp_is_ns] = inp\n",
    "        [out_A_OHE_true, out_B_OHE_true] = out\n",
    "        \n",
    "        with tf.GradientTape() as tape:\n",
    "\n",
    "            # run encoder with inp, get three outputs            \n",
    "            z_mean, z_log_var, z = self.encoder(inp) \n",
    "            \n",
    "            # pass latent variable \"z\" and two conditional variables inp_is_magnetic, inp_is_stable intp decoder\n",
    "            out_A_OHE, out_B_OHE = self.decoder([z, inp_is_magnetic, inp_is_ns])\n",
    "\n",
    "            # now important part: custom loss function\n",
    "            # 1) reconstruction loss: mean squared error and cross entropy.\n",
    "            reconstruction_loss =\\\n",
    "                tf.reduce_mean(keras.losses.categorical_crossentropy(out_A_OHE, out_A_OHE_true))+\\\n",
    "                tf.reduce_mean(keras.losses.categorical_crossentropy(out_B_OHE, out_B_OHE_true))\n",
    "            \n",
    "            # 2)  Kullback–Leibler divergence: distance loss between the two distributions\n",
    "            kl_loss = -0.5 * (1 + z_log_var - tf.square(z_mean) - tf.exp(z_log_var))\n",
    "            kl_loss = tf.reduce_mean(kl_loss, axis=1)\n",
    "            \n",
    "            # 3) total loss is sum of two losses\n",
    "            total_loss = tf.cast(reconstruction_loss,dtype=tf.float64) + tf.cast(kl_loss,dtype=tf.float64)\n",
    "            \n",
    "        # now take the gradien of total_loss wrt. trainable parameters\n",
    "        grads = tape.gradient(total_loss, self.trainable_weights)\n",
    "       \n",
    "        # apply this gradients to update trainable_weights\n",
    "        self.optimizer.apply_gradients(zip(grads, self.trainable_weights))\n",
    "        \n",
    "        # update current losses\n",
    "        self.total_loss_tracker.update_state(total_loss)        \n",
    "        self.reconstruction_loss_tracker.update_state(reconstruction_loss)\n",
    "        self.kl_loss_tracker.update_state(kl_loss)\n",
    "        \n",
    "        # return current losses in some special format\n",
    "        return {\n",
    "            \"loss\": self.total_loss_tracker.result(),\n",
    "            \"reconstruction_loss\": self.reconstruction_loss_tracker.result(),\n",
    "            \"kl_loss\": self.kl_loss_tracker.result(),\n",
    "        }\n",
    "    \n",
    "    # custom test step\n",
    "    def test_step(self, data):\n",
    "        # split data tuple into (inp)ut and (out)put\n",
    "        inp, out = data \n",
    "        \n",
    "        # split inp and out into four inputs and two outputs further \n",
    "        [inp_A_OHE, inp_A_OHE,  inp_is_magnetic, inp_is_ns] = inp\n",
    "        [out_A_OHE_true, out_B_OHE_true] = out\n",
    "        \n",
    "        # run encoder with inp, get three outputs            \n",
    "        z_mean, z_log_var, z = self.encoder(inp) \n",
    "\n",
    "        # pass latent variable \"z\" and two conditional variables inp_is_magnetic, inp_is_stable intp decoder\n",
    "        out_A_OHE, out_B_OHE = self.decoder([z, inp_is_magnetic, inp_is_ns])\n",
    "\n",
    "        # now important part: custom loss function\n",
    "        # 1) reconstruction loss: mean squared error and cross entropy.\n",
    "        reconstruction_loss =\\\n",
    "            tf.reduce_mean(keras.losses.categorical_crossentropy(out_A_OHE, out_A_OHE_true))+\\\n",
    "            tf.reduce_mean(keras.losses.categorical_crossentropy(out_B_OHE, out_B_OHE_true))\n",
    "\n",
    "        # 2)  Kullback–Leibler divergence: distance loss between the two distributions\n",
    "        kl_loss = -0.5 * (1 + z_log_var - tf.square(z_mean) - tf.exp(z_log_var))\n",
    "        kl_loss = tf.reduce_mean(kl_loss, axis=1)\n",
    "\n",
    "        # 3) total loss is sum of two losses\n",
    "        total_loss = tf.cast(reconstruction_loss,dtype=tf.float64) + tf.cast(kl_loss,dtype=tf.float64)\n",
    "        \n",
    "        # update current losses\n",
    "        self.total_loss_tracker.update_state(total_loss)        \n",
    "        self.reconstruction_loss_tracker.update_state(reconstruction_loss)\n",
    "        self.kl_loss_tracker.update_state(kl_loss)\n",
    "        \n",
    "        # return current losses in some special format\n",
    "        return {\n",
    "            \"loss\": self.total_loss_tracker.result(),\n",
    "            \"reconstruction_loss\": self.reconstruction_loss_tracker.result(),\n",
    "            \"kl_loss\": self.kl_loss_tracker.result(),\n",
    "        }"
   ]
  },
  {
   "cell_type": "code",
   "execution_count": 301,
   "id": "df8978b7",
   "metadata": {},
   "outputs": [],
   "source": [
    "cvae=ConditionalVAE(encoder, decoder)"
   ]
  },
  {
   "cell_type": "code",
   "execution_count": 302,
   "id": "bdb58e48",
   "metadata": {},
   "outputs": [],
   "source": [
    "cvae.compile(optimizer=\"adam\")"
   ]
  },
  {
   "cell_type": "code",
   "execution_count": 303,
   "id": "deb08063",
   "metadata": {},
   "outputs": [],
   "source": [
    "es=EarlyStopping(patience=150, mode=\"min\")"
   ]
  },
  {
   "cell_type": "code",
   "execution_count": 312,
   "id": "7a7b4840",
   "metadata": {},
   "outputs": [
    {
     "name": "stdout",
     "output_type": "stream",
     "text": [
      "Epoch 1/1000\n",
      "18/18 - 0s - loss: 3.2184 - reconstruction_loss: 2.0126 - kl_loss: 1.1148 - val_loss: 17.7616 - val_reconstruction_loss: 16.5104 - val_kl_loss: 1.1376\n",
      "Epoch 2/1000\n",
      "18/18 - 1s - loss: 3.0475 - reconstruction_loss: 1.9971 - kl_loss: 1.1058 - val_loss: 17.7478 - val_reconstruction_loss: 16.5070 - val_kl_loss: 1.1271\n",
      "Epoch 3/1000\n",
      "18/18 - 0s - loss: 3.1978 - reconstruction_loss: 1.9626 - kl_loss: 1.0985 - val_loss: 17.8481 - val_reconstruction_loss: 16.5884 - val_kl_loss: 1.1221\n",
      "Epoch 4/1000\n",
      "18/18 - 0s - loss: 3.1183 - reconstruction_loss: 1.9906 - kl_loss: 1.0983 - val_loss: 17.6724 - val_reconstruction_loss: 16.4530 - val_kl_loss: 1.1217\n",
      "Epoch 5/1000\n",
      "18/18 - 0s - loss: 3.0426 - reconstruction_loss: 1.9987 - kl_loss: 1.1060 - val_loss: 17.8417 - val_reconstruction_loss: 16.5752 - val_kl_loss: 1.1327\n",
      "Epoch 6/1000\n",
      "18/18 - 0s - loss: 3.1552 - reconstruction_loss: 2.0398 - kl_loss: 1.1089 - val_loss: 17.7977 - val_reconstruction_loss: 16.5437 - val_kl_loss: 1.1299\n",
      "Epoch 7/1000\n",
      "18/18 - 1s - loss: 3.1509 - reconstruction_loss: 2.1364 - kl_loss: 1.1087 - val_loss: 17.8630 - val_reconstruction_loss: 16.5776 - val_kl_loss: 1.1509\n",
      "Epoch 8/1000\n",
      "18/18 - 0s - loss: 3.2321 - reconstruction_loss: 2.1043 - kl_loss: 1.1313 - val_loss: 17.9176 - val_reconstruction_loss: 16.5996 - val_kl_loss: 1.1773\n",
      "Epoch 9/1000\n",
      "18/18 - 0s - loss: 3.3010 - reconstruction_loss: 2.0808 - kl_loss: 1.1505 - val_loss: 17.9681 - val_reconstruction_loss: 16.6323 - val_kl_loss: 1.1859\n",
      "Epoch 10/1000\n",
      "18/18 - 0s - loss: 3.1654 - reconstruction_loss: 2.0299 - kl_loss: 1.1499 - val_loss: 17.8884 - val_reconstruction_loss: 16.5758 - val_kl_loss: 1.1788\n",
      "Epoch 11/1000\n",
      "18/18 - 0s - loss: 3.2302 - reconstruction_loss: 1.9526 - kl_loss: 1.1375 - val_loss: 17.8577 - val_reconstruction_loss: 16.5684 - val_kl_loss: 1.1576\n",
      "Epoch 12/1000\n",
      "18/18 - 1s - loss: 3.1499 - reconstruction_loss: 1.9500 - kl_loss: 1.1188 - val_loss: 17.7212 - val_reconstruction_loss: 16.4722 - val_kl_loss: 1.1456\n",
      "Epoch 13/1000\n",
      "18/18 - 0s - loss: 2.8853 - reconstruction_loss: 1.8896 - kl_loss: 1.1132 - val_loss: 17.6921 - val_reconstruction_loss: 16.4624 - val_kl_loss: 1.1289\n",
      "Epoch 14/1000\n",
      "18/18 - 0s - loss: 2.8602 - reconstruction_loss: 1.8783 - kl_loss: 1.0974 - val_loss: 17.7407 - val_reconstruction_loss: 16.5109 - val_kl_loss: 1.1158\n",
      "Epoch 15/1000\n",
      "18/18 - 0s - loss: 2.8056 - reconstruction_loss: 1.9269 - kl_loss: 1.0876 - val_loss: 17.7382 - val_reconstruction_loss: 16.5115 - val_kl_loss: 1.1115\n",
      "Epoch 16/1000\n",
      "18/18 - 1s - loss: 2.9988 - reconstruction_loss: 1.9150 - kl_loss: 1.0902 - val_loss: 17.8018 - val_reconstruction_loss: 16.5579 - val_kl_loss: 1.1152\n",
      "Epoch 17/1000\n",
      "18/18 - 0s - loss: 3.0415 - reconstruction_loss: 1.9129 - kl_loss: 1.0929 - val_loss: 17.7110 - val_reconstruction_loss: 16.4902 - val_kl_loss: 1.1128\n",
      "Epoch 18/1000\n",
      "18/18 - 0s - loss: 3.0321 - reconstruction_loss: 1.8725 - kl_loss: 1.0852 - val_loss: 17.7244 - val_reconstruction_loss: 16.5090 - val_kl_loss: 1.1011\n",
      "Epoch 19/1000\n",
      "18/18 - 0s - loss: 2.9095 - reconstruction_loss: 1.8991 - kl_loss: 1.0752 - val_loss: 17.7167 - val_reconstruction_loss: 16.5076 - val_kl_loss: 1.0953\n",
      "Epoch 20/1000\n",
      "18/18 - 0s - loss: 2.9904 - reconstruction_loss: 1.9070 - kl_loss: 1.0806 - val_loss: 17.7315 - val_reconstruction_loss: 16.5096 - val_kl_loss: 1.1087\n",
      "Epoch 21/1000\n",
      "18/18 - 1s - loss: 3.0830 - reconstruction_loss: 1.8613 - kl_loss: 1.0823 - val_loss: 17.8026 - val_reconstruction_loss: 16.5669 - val_kl_loss: 1.1044\n",
      "Epoch 22/1000\n",
      "18/18 - 0s - loss: 3.0408 - reconstruction_loss: 1.9168 - kl_loss: 1.0820 - val_loss: 17.8042 - val_reconstruction_loss: 16.5611 - val_kl_loss: 1.1136\n",
      "Epoch 23/1000\n",
      "18/18 - 0s - loss: 3.0339 - reconstruction_loss: 1.8762 - kl_loss: 1.0918 - val_loss: 17.7789 - val_reconstruction_loss: 16.5386 - val_kl_loss: 1.1186\n",
      "Epoch 24/1000\n",
      "18/18 - 0s - loss: 3.0432 - reconstruction_loss: 1.8674 - kl_loss: 1.0939 - val_loss: 17.7473 - val_reconstruction_loss: 16.5113 - val_kl_loss: 1.1210\n",
      "Epoch 25/1000\n",
      "18/18 - 0s - loss: 3.3513 - reconstruction_loss: 1.9731 - kl_loss: 1.1003 - val_loss: 17.7994 - val_reconstruction_loss: 16.5448 - val_kl_loss: 1.1298\n",
      "Epoch 26/1000\n",
      "18/18 - 1s - loss: 2.9876 - reconstruction_loss: 1.8911 - kl_loss: 1.1125 - val_loss: 17.8556 - val_reconstruction_loss: 16.5810 - val_kl_loss: 1.1391\n",
      "Epoch 27/1000\n",
      "18/18 - 0s - loss: 3.0573 - reconstruction_loss: 1.8708 - kl_loss: 1.1216 - val_loss: 17.7225 - val_reconstruction_loss: 16.4709 - val_kl_loss: 1.1483\n",
      "Epoch 28/1000\n",
      "18/18 - 0s - loss: 3.0167 - reconstruction_loss: 1.8626 - kl_loss: 1.1207 - val_loss: 17.8439 - val_reconstruction_loss: 16.5669 - val_kl_loss: 1.1456\n",
      "Epoch 29/1000\n",
      "18/18 - 0s - loss: 3.1029 - reconstruction_loss: 1.8201 - kl_loss: 1.1208 - val_loss: 17.7506 - val_reconstruction_loss: 16.5010 - val_kl_loss: 1.1377\n",
      "Epoch 30/1000\n",
      "18/18 - 0s - loss: 3.0437 - reconstruction_loss: 1.7837 - kl_loss: 1.1111 - val_loss: 17.6677 - val_reconstruction_loss: 16.4474 - val_kl_loss: 1.1247\n",
      "Epoch 31/1000\n",
      "18/18 - 0s - loss: 2.8384 - reconstruction_loss: 1.7759 - kl_loss: 1.0986 - val_loss: 17.7322 - val_reconstruction_loss: 16.5104 - val_kl_loss: 1.1069\n",
      "Epoch 32/1000\n",
      "18/18 - 0s - loss: 3.0420 - reconstruction_loss: 1.7521 - kl_loss: 1.0804 - val_loss: 17.7658 - val_reconstruction_loss: 16.5502 - val_kl_loss: 1.0891\n",
      "Epoch 33/1000\n",
      "18/18 - 0s - loss: 2.6387 - reconstruction_loss: 1.7940 - kl_loss: 1.0685 - val_loss: 17.6886 - val_reconstruction_loss: 16.4962 - val_kl_loss: 1.0818\n",
      "Epoch 34/1000\n",
      "18/18 - 0s - loss: 2.9559 - reconstruction_loss: 1.8218 - kl_loss: 1.0636 - val_loss: 17.6885 - val_reconstruction_loss: 16.4994 - val_kl_loss: 1.0779\n",
      "Epoch 35/1000\n",
      "18/18 - 0s - loss: 2.7561 - reconstruction_loss: 1.7933 - kl_loss: 1.0607 - val_loss: 17.7195 - val_reconstruction_loss: 16.5177 - val_kl_loss: 1.0850\n",
      "Epoch 36/1000\n",
      "18/18 - 0s - loss: 2.8839 - reconstruction_loss: 1.8016 - kl_loss: 1.0674 - val_loss: 17.6389 - val_reconstruction_loss: 16.4536 - val_kl_loss: 1.0871\n",
      "Epoch 37/1000\n",
      "18/18 - 1s - loss: 2.8874 - reconstruction_loss: 1.8174 - kl_loss: 1.0704 - val_loss: 17.6085 - val_reconstruction_loss: 16.4270 - val_kl_loss: 1.0928\n",
      "Epoch 38/1000\n",
      "18/18 - 0s - loss: 2.7809 - reconstruction_loss: 1.7673 - kl_loss: 1.0780 - val_loss: 17.6123 - val_reconstruction_loss: 16.4265 - val_kl_loss: 1.0981\n",
      "Epoch 39/1000\n",
      "18/18 - 0s - loss: 2.9479 - reconstruction_loss: 1.7336 - kl_loss: 1.0806 - val_loss: 17.6804 - val_reconstruction_loss: 16.4799 - val_kl_loss: 1.0950\n",
      "Epoch 40/1000\n",
      "18/18 - 0s - loss: 3.0102 - reconstruction_loss: 1.8521 - kl_loss: 1.0764 - val_loss: 17.6206 - val_reconstruction_loss: 16.4287 - val_kl_loss: 1.1016\n",
      "Epoch 41/1000\n",
      "18/18 - 0s - loss: 2.7498 - reconstruction_loss: 1.7683 - kl_loss: 1.0820 - val_loss: 17.6244 - val_reconstruction_loss: 16.4328 - val_kl_loss: 1.0996\n",
      "Epoch 42/1000\n",
      "18/18 - 1s - loss: 2.7954 - reconstruction_loss: 1.7353 - kl_loss: 1.0769 - val_loss: 17.6104 - val_reconstruction_loss: 16.4230 - val_kl_loss: 1.0984\n",
      "Epoch 43/1000\n",
      "18/18 - 0s - loss: 2.7404 - reconstruction_loss: 1.7157 - kl_loss: 1.0745 - val_loss: 17.5801 - val_reconstruction_loss: 16.4033 - val_kl_loss: 1.0933\n",
      "Epoch 44/1000\n",
      "18/18 - 0s - loss: 2.8294 - reconstruction_loss: 1.7480 - kl_loss: 1.0715 - val_loss: 17.6682 - val_reconstruction_loss: 16.4659 - val_kl_loss: 1.1009\n",
      "Epoch 45/1000\n",
      "18/18 - 0s - loss: 2.7171 - reconstruction_loss: 1.7939 - kl_loss: 1.0765 - val_loss: 17.6969 - val_reconstruction_loss: 16.4873 - val_kl_loss: 1.1015\n",
      "Epoch 46/1000\n",
      "18/18 - 0s - loss: 2.8383 - reconstruction_loss: 1.7269 - kl_loss: 1.0816 - val_loss: 17.6764 - val_reconstruction_loss: 16.4746 - val_kl_loss: 1.0976\n",
      "Epoch 47/1000\n",
      "18/18 - 1s - loss: 2.8705 - reconstruction_loss: 1.6646 - kl_loss: 1.0723 - val_loss: 17.6940 - val_reconstruction_loss: 16.4990 - val_kl_loss: 1.0835\n",
      "Epoch 48/1000\n",
      "18/18 - 0s - loss: 2.7110 - reconstruction_loss: 1.6850 - kl_loss: 1.0614 - val_loss: 17.6949 - val_reconstruction_loss: 16.5117 - val_kl_loss: 1.0726\n",
      "Epoch 49/1000\n",
      "18/18 - 0s - loss: 2.6792 - reconstruction_loss: 1.7023 - kl_loss: 1.0563 - val_loss: 17.6890 - val_reconstruction_loss: 16.5045 - val_kl_loss: 1.0717\n",
      "Epoch 50/1000\n",
      "18/18 - 0s - loss: 2.8100 - reconstruction_loss: 1.7479 - kl_loss: 1.0581 - val_loss: 17.7195 - val_reconstruction_loss: 16.5241 - val_kl_loss: 1.0773\n"
     ]
    },
    {
     "name": "stdout",
     "output_type": "stream",
     "text": [
      "Epoch 51/1000\n",
      "18/18 - 0s - loss: 2.7557 - reconstruction_loss: 1.9192 - kl_loss: 1.0752 - val_loss: 17.7454 - val_reconstruction_loss: 16.5160 - val_kl_loss: 1.1134\n",
      "Epoch 52/1000\n",
      "18/18 - 1s - loss: 2.9301 - reconstruction_loss: 1.8177 - kl_loss: 1.1000 - val_loss: 17.7077 - val_reconstruction_loss: 16.4743 - val_kl_loss: 1.1291\n",
      "Epoch 53/1000\n",
      "18/18 - 0s - loss: 2.8299 - reconstruction_loss: 1.7837 - kl_loss: 1.1098 - val_loss: 17.8190 - val_reconstruction_loss: 16.5540 - val_kl_loss: 1.1376\n",
      "Epoch 54/1000\n",
      "18/18 - 0s - loss: 2.8912 - reconstruction_loss: 1.7755 - kl_loss: 1.1136 - val_loss: 17.7302 - val_reconstruction_loss: 16.4851 - val_kl_loss: 1.1377\n",
      "Epoch 55/1000\n",
      "18/18 - 0s - loss: 2.9043 - reconstruction_loss: 1.6972 - kl_loss: 1.1042 - val_loss: 17.7766 - val_reconstruction_loss: 16.5357 - val_kl_loss: 1.1186\n",
      "Epoch 56/1000\n",
      "18/18 - 0s - loss: 2.6570 - reconstruction_loss: 1.7579 - kl_loss: 1.0887 - val_loss: 17.6908 - val_reconstruction_loss: 16.4839 - val_kl_loss: 1.1010\n",
      "Epoch 57/1000\n",
      "18/18 - 0s - loss: 2.8908 - reconstruction_loss: 1.7606 - kl_loss: 1.0837 - val_loss: 17.7599 - val_reconstruction_loss: 16.5322 - val_kl_loss: 1.1066\n",
      "Epoch 58/1000\n",
      "18/18 - 1s - loss: 2.8633 - reconstruction_loss: 1.7356 - kl_loss: 1.0941 - val_loss: 17.6349 - val_reconstruction_loss: 16.4297 - val_kl_loss: 1.1144\n",
      "Epoch 59/1000\n",
      "18/18 - 0s - loss: 2.7812 - reconstruction_loss: 1.7617 - kl_loss: 1.0968 - val_loss: 17.6641 - val_reconstruction_loss: 16.4568 - val_kl_loss: 1.1081\n",
      "Epoch 60/1000\n",
      "18/18 - 0s - loss: 2.8546 - reconstruction_loss: 1.7544 - kl_loss: 1.0861 - val_loss: 17.6648 - val_reconstruction_loss: 16.4642 - val_kl_loss: 1.0993\n",
      "Epoch 61/1000\n",
      "18/18 - 0s - loss: 2.9247 - reconstruction_loss: 1.7488 - kl_loss: 1.0885 - val_loss: 17.7466 - val_reconstruction_loss: 16.5205 - val_kl_loss: 1.1084\n",
      "Epoch 62/1000\n",
      "18/18 - 0s - loss: 2.9287 - reconstruction_loss: 1.7733 - kl_loss: 1.0863 - val_loss: 17.6981 - val_reconstruction_loss: 16.4921 - val_kl_loss: 1.0966\n",
      "Epoch 63/1000\n",
      "18/18 - 1s - loss: 2.8150 - reconstruction_loss: 1.8032 - kl_loss: 1.0824 - val_loss: 17.6900 - val_reconstruction_loss: 16.4814 - val_kl_loss: 1.1024\n",
      "Epoch 64/1000\n",
      "18/18 - 0s - loss: 2.7115 - reconstruction_loss: 1.7934 - kl_loss: 1.0897 - val_loss: 17.7023 - val_reconstruction_loss: 16.4895 - val_kl_loss: 1.1047\n",
      "Epoch 65/1000\n",
      "18/18 - 0s - loss: 2.7291 - reconstruction_loss: 1.7017 - kl_loss: 1.0896 - val_loss: 17.6401 - val_reconstruction_loss: 16.4425 - val_kl_loss: 1.1026\n",
      "Epoch 66/1000\n",
      "18/18 - 0s - loss: 2.9090 - reconstruction_loss: 1.7492 - kl_loss: 1.0873 - val_loss: 17.6670 - val_reconstruction_loss: 16.4647 - val_kl_loss: 1.1009\n",
      "Epoch 67/1000\n",
      "18/18 - 0s - loss: 2.7491 - reconstruction_loss: 1.6921 - kl_loss: 1.0886 - val_loss: 17.6372 - val_reconstruction_loss: 16.4388 - val_kl_loss: 1.1045\n",
      "Epoch 68/1000\n",
      "18/18 - 1s - loss: 2.8456 - reconstruction_loss: 1.6990 - kl_loss: 1.0906 - val_loss: 17.5816 - val_reconstruction_loss: 16.3985 - val_kl_loss: 1.1013\n",
      "Epoch 69/1000\n",
      "18/18 - 0s - loss: 2.8882 - reconstruction_loss: 1.6928 - kl_loss: 1.0846 - val_loss: 17.6293 - val_reconstruction_loss: 16.4354 - val_kl_loss: 1.1011\n",
      "Epoch 70/1000\n",
      "18/18 - 0s - loss: 2.9587 - reconstruction_loss: 1.7033 - kl_loss: 1.0835 - val_loss: 17.7513 - val_reconstruction_loss: 16.5329 - val_kl_loss: 1.0969\n",
      "Epoch 71/1000\n",
      "18/18 - 0s - loss: 2.9108 - reconstruction_loss: 1.6847 - kl_loss: 1.0834 - val_loss: 17.6461 - val_reconstruction_loss: 16.4538 - val_kl_loss: 1.0940\n",
      "Epoch 72/1000\n",
      "18/18 - 0s - loss: 2.7108 - reconstruction_loss: 1.7341 - kl_loss: 1.0738 - val_loss: 17.6433 - val_reconstruction_loss: 16.4622 - val_kl_loss: 1.0803\n",
      "Epoch 73/1000\n",
      "18/18 - 1s - loss: 2.6992 - reconstruction_loss: 1.6665 - kl_loss: 1.0675 - val_loss: 17.6808 - val_reconstruction_loss: 16.4902 - val_kl_loss: 1.0816\n",
      "Epoch 74/1000\n",
      "18/18 - 0s - loss: 2.8534 - reconstruction_loss: 1.6913 - kl_loss: 1.0712 - val_loss: 17.6409 - val_reconstruction_loss: 16.4560 - val_kl_loss: 1.0860\n",
      "Epoch 75/1000\n",
      "18/18 - 0s - loss: 2.8285 - reconstruction_loss: 1.7505 - kl_loss: 1.0764 - val_loss: 17.6603 - val_reconstruction_loss: 16.4643 - val_kl_loss: 1.0953\n",
      "Epoch 76/1000\n",
      "18/18 - 0s - loss: 2.8711 - reconstruction_loss: 1.7262 - kl_loss: 1.0847 - val_loss: 17.7339 - val_reconstruction_loss: 16.5161 - val_kl_loss: 1.1014\n",
      "Epoch 77/1000\n",
      "18/18 - 0s - loss: 2.7762 - reconstruction_loss: 1.6731 - kl_loss: 1.0890 - val_loss: 17.7082 - val_reconstruction_loss: 16.4969 - val_kl_loss: 1.1005\n",
      "Epoch 78/1000\n",
      "18/18 - 1s - loss: 2.6492 - reconstruction_loss: 1.6698 - kl_loss: 1.0814 - val_loss: 17.6654 - val_reconstruction_loss: 16.4758 - val_kl_loss: 1.0849\n",
      "Epoch 79/1000\n",
      "18/18 - 0s - loss: 2.6430 - reconstruction_loss: 1.6420 - kl_loss: 1.0769 - val_loss: 17.6196 - val_reconstruction_loss: 16.4384 - val_kl_loss: 1.0873\n",
      "Epoch 80/1000\n",
      "18/18 - 0s - loss: 2.7235 - reconstruction_loss: 1.6693 - kl_loss: 1.0847 - val_loss: 17.6952 - val_reconstruction_loss: 16.4840 - val_kl_loss: 1.1041\n",
      "Epoch 81/1000\n",
      "18/18 - 0s - loss: 2.8259 - reconstruction_loss: 1.6651 - kl_loss: 1.0975 - val_loss: 17.7192 - val_reconstruction_loss: 16.5019 - val_kl_loss: 1.1050\n",
      "Epoch 82/1000\n",
      "18/18 - 1s - loss: 2.8119 - reconstruction_loss: 1.6882 - kl_loss: 1.1015 - val_loss: 17.6594 - val_reconstruction_loss: 16.4536 - val_kl_loss: 1.1077\n",
      "Epoch 83/1000\n",
      "18/18 - 0s - loss: 2.6131 - reconstruction_loss: 1.6515 - kl_loss: 1.1007 - val_loss: 17.6616 - val_reconstruction_loss: 16.4616 - val_kl_loss: 1.0995\n",
      "Epoch 84/1000\n",
      "18/18 - 0s - loss: 2.8803 - reconstruction_loss: 1.6478 - kl_loss: 1.0922 - val_loss: 17.6171 - val_reconstruction_loss: 16.4330 - val_kl_loss: 1.0920\n",
      "Epoch 85/1000\n",
      "18/18 - 0s - loss: 2.7633 - reconstruction_loss: 1.6206 - kl_loss: 1.0841 - val_loss: 17.7102 - val_reconstruction_loss: 16.5121 - val_kl_loss: 1.0827\n",
      "Epoch 86/1000\n",
      "18/18 - 0s - loss: 2.6701 - reconstruction_loss: 1.7148 - kl_loss: 1.0790 - val_loss: 17.5966 - val_reconstruction_loss: 16.4188 - val_kl_loss: 1.0898\n",
      "Epoch 87/1000\n",
      "18/18 - 0s - loss: 2.8674 - reconstruction_loss: 1.6801 - kl_loss: 1.0878 - val_loss: 17.6530 - val_reconstruction_loss: 16.4546 - val_kl_loss: 1.1010\n",
      "Epoch 88/1000\n",
      "18/18 - 0s - loss: 2.7148 - reconstruction_loss: 1.6939 - kl_loss: 1.0895 - val_loss: 17.7414 - val_reconstruction_loss: 16.5280 - val_kl_loss: 1.0934\n",
      "Epoch 89/1000\n",
      "18/18 - 0s - loss: 2.8464 - reconstruction_loss: 1.7119 - kl_loss: 1.0821 - val_loss: 17.7334 - val_reconstruction_loss: 16.5263 - val_kl_loss: 1.0878\n",
      "Epoch 90/1000\n",
      "18/18 - 0s - loss: 2.7038 - reconstruction_loss: 1.6406 - kl_loss: 1.0795 - val_loss: 17.6493 - val_reconstruction_loss: 16.4609 - val_kl_loss: 1.0883\n",
      "Epoch 91/1000\n",
      "18/18 - 0s - loss: 2.6362 - reconstruction_loss: 1.6159 - kl_loss: 1.0787 - val_loss: 17.6621 - val_reconstruction_loss: 16.4705 - val_kl_loss: 1.0892\n",
      "Epoch 92/1000\n",
      "18/18 - 0s - loss: 2.7032 - reconstruction_loss: 1.6817 - kl_loss: 1.0801 - val_loss: 17.7534 - val_reconstruction_loss: 16.5327 - val_kl_loss: 1.0996\n",
      "Epoch 93/1000\n",
      "18/18 - 1s - loss: 2.6622 - reconstruction_loss: 1.7200 - kl_loss: 1.0925 - val_loss: 17.7423 - val_reconstruction_loss: 16.5154 - val_kl_loss: 1.1108\n",
      "Epoch 94/1000\n",
      "18/18 - 0s - loss: 2.7479 - reconstruction_loss: 1.6614 - kl_loss: 1.0971 - val_loss: 17.6951 - val_reconstruction_loss: 16.4864 - val_kl_loss: 1.1024\n",
      "Epoch 95/1000\n",
      "18/18 - 0s - loss: 2.6761 - reconstruction_loss: 1.5956 - kl_loss: 1.0925 - val_loss: 17.7354 - val_reconstruction_loss: 16.5220 - val_kl_loss: 1.0962\n",
      "Epoch 96/1000\n",
      "18/18 - 0s - loss: 2.6616 - reconstruction_loss: 1.5658 - kl_loss: 1.0805 - val_loss: 17.6825 - val_reconstruction_loss: 16.4959 - val_kl_loss: 1.0761\n",
      "Epoch 97/1000\n",
      "18/18 - 0s - loss: 2.6912 - reconstruction_loss: 1.6419 - kl_loss: 1.0724 - val_loss: 17.6090 - val_reconstruction_loss: 16.4323 - val_kl_loss: 1.0848\n",
      "Epoch 98/1000\n",
      "18/18 - 1s - loss: 2.5721 - reconstruction_loss: 1.5996 - kl_loss: 1.0748 - val_loss: 17.6381 - val_reconstruction_loss: 16.4567 - val_kl_loss: 1.0824\n",
      "Epoch 99/1000\n",
      "18/18 - 0s - loss: 2.7935 - reconstruction_loss: 1.7095 - kl_loss: 1.0739 - val_loss: 17.7183 - val_reconstruction_loss: 16.5098 - val_kl_loss: 1.0942\n",
      "Epoch 100/1000\n",
      "18/18 - 0s - loss: 2.6195 - reconstruction_loss: 1.6994 - kl_loss: 1.0834 - val_loss: 17.7050 - val_reconstruction_loss: 16.4948 - val_kl_loss: 1.1009\n"
     ]
    },
    {
     "name": "stdout",
     "output_type": "stream",
     "text": [
      "Epoch 101/1000\n",
      "18/18 - 0s - loss: 2.7911 - reconstruction_loss: 1.6653 - kl_loss: 1.0833 - val_loss: 17.6790 - val_reconstruction_loss: 16.4852 - val_kl_loss: 1.1016\n",
      "Epoch 102/1000\n",
      "18/18 - 0s - loss: 2.6839 - reconstruction_loss: 1.6916 - kl_loss: 1.0851 - val_loss: 17.6119 - val_reconstruction_loss: 16.4235 - val_kl_loss: 1.1061\n",
      "Epoch 103/1000\n",
      "18/18 - 1s - loss: 2.6881 - reconstruction_loss: 1.6358 - kl_loss: 1.0895 - val_loss: 17.6477 - val_reconstruction_loss: 16.4459 - val_kl_loss: 1.1062\n",
      "Epoch 104/1000\n",
      "18/18 - 0s - loss: 2.6388 - reconstruction_loss: 1.6090 - kl_loss: 1.0862 - val_loss: 17.6117 - val_reconstruction_loss: 16.4260 - val_kl_loss: 1.0956\n",
      "Epoch 105/1000\n",
      "18/18 - 0s - loss: 2.6969 - reconstruction_loss: 1.6007 - kl_loss: 1.0770 - val_loss: 17.6306 - val_reconstruction_loss: 16.4409 - val_kl_loss: 1.0959\n",
      "Epoch 106/1000\n",
      "18/18 - 0s - loss: 2.6841 - reconstruction_loss: 1.6297 - kl_loss: 1.0851 - val_loss: 17.6262 - val_reconstruction_loss: 16.4329 - val_kl_loss: 1.1014\n",
      "Epoch 107/1000\n",
      "18/18 - 0s - loss: 2.7077 - reconstruction_loss: 1.6510 - kl_loss: 1.0891 - val_loss: 17.6146 - val_reconstruction_loss: 16.4223 - val_kl_loss: 1.1049\n",
      "Epoch 108/1000\n",
      "18/18 - 1s - loss: 2.6639 - reconstruction_loss: 1.6237 - kl_loss: 1.0928 - val_loss: 17.6435 - val_reconstruction_loss: 16.4450 - val_kl_loss: 1.1029\n",
      "Epoch 109/1000\n",
      "18/18 - 0s - loss: 2.7393 - reconstruction_loss: 1.6349 - kl_loss: 1.0893 - val_loss: 17.7029 - val_reconstruction_loss: 16.4909 - val_kl_loss: 1.1029\n",
      "Epoch 110/1000\n",
      "18/18 - 0s - loss: 2.7513 - reconstruction_loss: 1.6727 - kl_loss: 1.0935 - val_loss: 17.8106 - val_reconstruction_loss: 16.5693 - val_kl_loss: 1.1134\n",
      "Epoch 111/1000\n",
      "18/18 - 0s - loss: 2.7196 - reconstruction_loss: 1.5796 - kl_loss: 1.0939 - val_loss: 17.6591 - val_reconstruction_loss: 16.4542 - val_kl_loss: 1.1067\n",
      "Epoch 112/1000\n",
      "18/18 - 1s - loss: 2.7669 - reconstruction_loss: 1.6276 - kl_loss: 1.0888 - val_loss: 17.6459 - val_reconstruction_loss: 16.4428 - val_kl_loss: 1.1085\n",
      "Epoch 113/1000\n",
      "18/18 - 0s - loss: 2.8157 - reconstruction_loss: 1.6189 - kl_loss: 1.0984 - val_loss: 17.5783 - val_reconstruction_loss: 16.3805 - val_kl_loss: 1.1210\n",
      "Epoch 114/1000\n",
      "18/18 - 0s - loss: 2.4680 - reconstruction_loss: 1.5850 - kl_loss: 1.1032 - val_loss: 17.6997 - val_reconstruction_loss: 16.4723 - val_kl_loss: 1.1237\n",
      "Epoch 115/1000\n",
      "18/18 - 0s - loss: 2.8557 - reconstruction_loss: 1.5911 - kl_loss: 1.1065 - val_loss: 17.6806 - val_reconstruction_loss: 16.4580 - val_kl_loss: 1.1235\n",
      "Epoch 116/1000\n",
      "18/18 - 0s - loss: 2.7683 - reconstruction_loss: 1.6011 - kl_loss: 1.1069 - val_loss: 17.7097 - val_reconstruction_loss: 16.4769 - val_kl_loss: 1.1278\n",
      "Epoch 117/1000\n",
      "18/18 - 0s - loss: 2.6000 - reconstruction_loss: 1.6120 - kl_loss: 1.1053 - val_loss: 17.6380 - val_reconstruction_loss: 16.4310 - val_kl_loss: 1.1155\n",
      "Epoch 118/1000\n",
      "18/18 - 1s - loss: 2.5664 - reconstruction_loss: 1.5933 - kl_loss: 1.0956 - val_loss: 17.5811 - val_reconstruction_loss: 16.3941 - val_kl_loss: 1.1063\n",
      "Epoch 119/1000\n",
      "18/18 - 0s - loss: 2.7102 - reconstruction_loss: 1.5421 - kl_loss: 1.0846 - val_loss: 17.5853 - val_reconstruction_loss: 16.4096 - val_kl_loss: 1.0904\n",
      "Epoch 120/1000\n",
      "18/18 - 0s - loss: 2.6275 - reconstruction_loss: 1.5614 - kl_loss: 1.0729 - val_loss: 17.6858 - val_reconstruction_loss: 16.4870 - val_kl_loss: 1.0909\n",
      "Epoch 121/1000\n",
      "18/18 - 0s - loss: 2.6329 - reconstruction_loss: 1.5849 - kl_loss: 1.0836 - val_loss: 17.6267 - val_reconstruction_loss: 16.4367 - val_kl_loss: 1.0985\n",
      "Epoch 122/1000\n",
      "18/18 - 0s - loss: 2.6118 - reconstruction_loss: 1.5867 - kl_loss: 1.0840 - val_loss: 17.6339 - val_reconstruction_loss: 16.4381 - val_kl_loss: 1.1028\n",
      "Epoch 123/1000\n",
      "18/18 - 1s - loss: 2.7334 - reconstruction_loss: 1.5980 - kl_loss: 1.0820 - val_loss: 17.6694 - val_reconstruction_loss: 16.4701 - val_kl_loss: 1.0966\n",
      "Epoch 124/1000\n",
      "18/18 - 0s - loss: 2.6232 - reconstruction_loss: 1.6338 - kl_loss: 1.0744 - val_loss: 17.6381 - val_reconstruction_loss: 16.4559 - val_kl_loss: 1.0851\n",
      "Epoch 125/1000\n",
      "18/18 - 0s - loss: 2.6297 - reconstruction_loss: 1.5571 - kl_loss: 1.0690 - val_loss: 17.5497 - val_reconstruction_loss: 16.3892 - val_kl_loss: 1.0814\n",
      "Epoch 126/1000\n",
      "18/18 - 0s - loss: 2.7046 - reconstruction_loss: 1.6162 - kl_loss: 1.0602 - val_loss: 17.6065 - val_reconstruction_loss: 16.4407 - val_kl_loss: 1.0714\n",
      "Epoch 127/1000\n",
      "18/18 - 0s - loss: 2.6182 - reconstruction_loss: 1.5729 - kl_loss: 1.0550 - val_loss: 17.6874 - val_reconstruction_loss: 16.5032 - val_kl_loss: 1.0715\n",
      "Epoch 128/1000\n",
      "18/18 - 1s - loss: 2.6771 - reconstruction_loss: 1.5487 - kl_loss: 1.0565 - val_loss: 17.6258 - val_reconstruction_loss: 16.4572 - val_kl_loss: 1.0704\n",
      "Epoch 129/1000\n",
      "18/18 - 0s - loss: 2.5214 - reconstruction_loss: 1.6200 - kl_loss: 1.0588 - val_loss: 17.6200 - val_reconstruction_loss: 16.4414 - val_kl_loss: 1.0843\n",
      "Epoch 130/1000\n",
      "18/18 - 0s - loss: 2.5623 - reconstruction_loss: 1.5529 - kl_loss: 1.0626 - val_loss: 17.5803 - val_reconstruction_loss: 16.4131 - val_kl_loss: 1.0809\n",
      "Epoch 131/1000\n",
      "18/18 - 0s - loss: 2.6631 - reconstruction_loss: 1.5398 - kl_loss: 1.0600 - val_loss: 17.5493 - val_reconstruction_loss: 16.3957 - val_kl_loss: 1.0724\n",
      "Epoch 132/1000\n",
      "18/18 - 0s - loss: 2.5999 - reconstruction_loss: 1.5291 - kl_loss: 1.0496 - val_loss: 17.6016 - val_reconstruction_loss: 16.4465 - val_kl_loss: 1.0589\n",
      "Epoch 133/1000\n",
      "18/18 - 1s - loss: 2.4446 - reconstruction_loss: 1.5094 - kl_loss: 1.0353 - val_loss: 17.5258 - val_reconstruction_loss: 16.4004 - val_kl_loss: 1.0427\n",
      "Epoch 134/1000\n",
      "18/18 - 0s - loss: 2.3809 - reconstruction_loss: 1.5838 - kl_loss: 1.0285 - val_loss: 17.5266 - val_reconstruction_loss: 16.4028 - val_kl_loss: 1.0411\n",
      "Epoch 135/1000\n",
      "18/18 - 0s - loss: 2.6769 - reconstruction_loss: 1.5514 - kl_loss: 1.0376 - val_loss: 17.5818 - val_reconstruction_loss: 16.4354 - val_kl_loss: 1.0536\n",
      "Epoch 136/1000\n",
      "18/18 - 0s - loss: 2.6843 - reconstruction_loss: 1.5733 - kl_loss: 1.0489 - val_loss: 17.6304 - val_reconstruction_loss: 16.4620 - val_kl_loss: 1.0678\n",
      "Epoch 137/1000\n",
      "18/18 - 0s - loss: 2.6001 - reconstruction_loss: 1.5598 - kl_loss: 1.0614 - val_loss: 17.6588 - val_reconstruction_loss: 16.4750 - val_kl_loss: 1.0794\n",
      "Epoch 138/1000\n",
      "18/18 - 1s - loss: 2.4395 - reconstruction_loss: 1.5249 - kl_loss: 1.0653 - val_loss: 17.5642 - val_reconstruction_loss: 16.3982 - val_kl_loss: 1.0841\n",
      "Epoch 139/1000\n",
      "18/18 - 0s - loss: 2.5504 - reconstruction_loss: 1.5379 - kl_loss: 1.0647 - val_loss: 17.5132 - val_reconstruction_loss: 16.3644 - val_kl_loss: 1.0767\n",
      "Epoch 140/1000\n",
      "18/18 - 0s - loss: 2.7647 - reconstruction_loss: 1.5523 - kl_loss: 1.0556 - val_loss: 17.4914 - val_reconstruction_loss: 16.3472 - val_kl_loss: 1.0771\n",
      "Epoch 141/1000\n",
      "18/18 - 0s - loss: 2.6073 - reconstruction_loss: 1.5288 - kl_loss: 1.0562 - val_loss: 17.5417 - val_reconstruction_loss: 16.3870 - val_kl_loss: 1.0760\n",
      "Epoch 142/1000\n",
      "18/18 - 0s - loss: 2.6686 - reconstruction_loss: 1.5774 - kl_loss: 1.0584 - val_loss: 17.5920 - val_reconstruction_loss: 16.4236 - val_kl_loss: 1.0790\n",
      "Epoch 143/1000\n",
      "18/18 - 1s - loss: 2.6912 - reconstruction_loss: 1.5616 - kl_loss: 1.0598 - val_loss: 17.4675 - val_reconstruction_loss: 16.3272 - val_kl_loss: 1.0802\n",
      "Epoch 144/1000\n",
      "18/18 - 0s - loss: 2.5829 - reconstruction_loss: 1.5829 - kl_loss: 1.0698 - val_loss: 17.4998 - val_reconstruction_loss: 16.3411 - val_kl_loss: 1.0937\n",
      "Epoch 145/1000\n",
      "18/18 - 0s - loss: 2.4671 - reconstruction_loss: 1.5997 - kl_loss: 1.0860 - val_loss: 17.5089 - val_reconstruction_loss: 16.3384 - val_kl_loss: 1.1106\n",
      "Epoch 146/1000\n",
      "18/18 - 0s - loss: 2.6569 - reconstruction_loss: 1.5497 - kl_loss: 1.0911 - val_loss: 17.5267 - val_reconstruction_loss: 16.3452 - val_kl_loss: 1.1152\n",
      "Epoch 147/1000\n",
      "18/18 - 0s - loss: 2.5902 - reconstruction_loss: 1.5240 - kl_loss: 1.0895 - val_loss: 17.5594 - val_reconstruction_loss: 16.3752 - val_kl_loss: 1.1089\n",
      "Epoch 148/1000\n",
      "18/18 - 1s - loss: 2.7126 - reconstruction_loss: 1.5882 - kl_loss: 1.0803 - val_loss: 17.5279 - val_reconstruction_loss: 16.3618 - val_kl_loss: 1.0951\n",
      "Epoch 149/1000\n",
      "18/18 - 0s - loss: 2.6786 - reconstruction_loss: 1.5929 - kl_loss: 1.0742 - val_loss: 17.5524 - val_reconstruction_loss: 16.3781 - val_kl_loss: 1.0985\n",
      "Epoch 150/1000\n",
      "18/18 - 0s - loss: 2.5824 - reconstruction_loss: 1.5384 - kl_loss: 1.0855 - val_loss: 17.5525 - val_reconstruction_loss: 16.3767 - val_kl_loss: 1.1038\n"
     ]
    },
    {
     "name": "stdout",
     "output_type": "stream",
     "text": [
      "Epoch 151/1000\n",
      "18/18 - 0s - loss: 2.6443 - reconstruction_loss: 1.5627 - kl_loss: 1.0875 - val_loss: 17.5208 - val_reconstruction_loss: 16.3519 - val_kl_loss: 1.1006\n",
      "Epoch 152/1000\n",
      "18/18 - 0s - loss: 2.5923 - reconstruction_loss: 1.4884 - kl_loss: 1.0805 - val_loss: 17.4872 - val_reconstruction_loss: 16.3313 - val_kl_loss: 1.0936\n",
      "Epoch 153/1000\n",
      "18/18 - 1s - loss: 2.7007 - reconstruction_loss: 1.4703 - kl_loss: 1.0766 - val_loss: 17.5508 - val_reconstruction_loss: 16.3857 - val_kl_loss: 1.0868\n",
      "Epoch 154/1000\n",
      "18/18 - 0s - loss: 2.5809 - reconstruction_loss: 1.5248 - kl_loss: 1.0732 - val_loss: 17.4646 - val_reconstruction_loss: 16.3172 - val_kl_loss: 1.0891\n",
      "Epoch 155/1000\n",
      "18/18 - 0s - loss: 2.6022 - reconstruction_loss: 1.5353 - kl_loss: 1.0700 - val_loss: 17.4720 - val_reconstruction_loss: 16.3247 - val_kl_loss: 1.0868\n",
      "Epoch 156/1000\n",
      "18/18 - 0s - loss: 2.6714 - reconstruction_loss: 1.5044 - kl_loss: 1.0674 - val_loss: 17.4761 - val_reconstruction_loss: 16.3317 - val_kl_loss: 1.0819\n",
      "Epoch 157/1000\n",
      "18/18 - 0s - loss: 2.5522 - reconstruction_loss: 1.4958 - kl_loss: 1.0616 - val_loss: 17.4713 - val_reconstruction_loss: 16.3400 - val_kl_loss: 1.0664\n",
      "Epoch 158/1000\n",
      "18/18 - 1s - loss: 2.7608 - reconstruction_loss: 1.5327 - kl_loss: 1.0526 - val_loss: 17.4210 - val_reconstruction_loss: 16.3029 - val_kl_loss: 1.0657\n",
      "Epoch 159/1000\n",
      "18/18 - 0s - loss: 2.4481 - reconstruction_loss: 1.6071 - kl_loss: 1.0683 - val_loss: 17.4499 - val_reconstruction_loss: 16.3018 - val_kl_loss: 1.0958\n",
      "Epoch 160/1000\n",
      "18/18 - 0s - loss: 2.7280 - reconstruction_loss: 1.5821 - kl_loss: 1.0917 - val_loss: 17.4828 - val_reconstruction_loss: 16.3137 - val_kl_loss: 1.1119\n",
      "Epoch 161/1000\n",
      "18/18 - 0s - loss: 2.5769 - reconstruction_loss: 1.5416 - kl_loss: 1.0976 - val_loss: 17.4549 - val_reconstruction_loss: 16.2941 - val_kl_loss: 1.1104\n",
      "Epoch 162/1000\n",
      "18/18 - 0s - loss: 2.6547 - reconstruction_loss: 1.4887 - kl_loss: 1.0924 - val_loss: 17.5230 - val_reconstruction_loss: 16.3506 - val_kl_loss: 1.1045\n",
      "Epoch 163/1000\n",
      "18/18 - 1s - loss: 2.4613 - reconstruction_loss: 1.4696 - kl_loss: 1.0828 - val_loss: 17.4661 - val_reconstruction_loss: 16.3193 - val_kl_loss: 1.0878\n",
      "Epoch 164/1000\n",
      "18/18 - 0s - loss: 2.5319 - reconstruction_loss: 1.5197 - kl_loss: 1.0679 - val_loss: 17.5277 - val_reconstruction_loss: 16.3829 - val_kl_loss: 1.0778\n",
      "Epoch 165/1000\n",
      "18/18 - 0s - loss: 2.6484 - reconstruction_loss: 1.5747 - kl_loss: 1.0732 - val_loss: 17.5017 - val_reconstruction_loss: 16.3374 - val_kl_loss: 1.1006\n",
      "Epoch 166/1000\n",
      "18/18 - 0s - loss: 2.3785 - reconstruction_loss: 1.5454 - kl_loss: 1.0877 - val_loss: 17.4490 - val_reconstruction_loss: 16.2886 - val_kl_loss: 1.1109\n",
      "Epoch 167/1000\n",
      "18/18 - 0s - loss: 2.6124 - reconstruction_loss: 1.5146 - kl_loss: 1.0953 - val_loss: 17.4751 - val_reconstruction_loss: 16.3080 - val_kl_loss: 1.1117\n",
      "Epoch 168/1000\n",
      "18/18 - 0s - loss: 2.6835 - reconstruction_loss: 1.5075 - kl_loss: 1.0918 - val_loss: 17.4378 - val_reconstruction_loss: 16.2823 - val_kl_loss: 1.1074\n",
      "Epoch 169/1000\n",
      "18/18 - 0s - loss: 2.4433 - reconstruction_loss: 1.5904 - kl_loss: 1.0909 - val_loss: 17.5405 - val_reconstruction_loss: 16.3617 - val_kl_loss: 1.1075\n",
      "Epoch 170/1000\n",
      "18/18 - 0s - loss: 2.6856 - reconstruction_loss: 1.5527 - kl_loss: 1.0943 - val_loss: 17.4734 - val_reconstruction_loss: 16.3049 - val_kl_loss: 1.1138\n",
      "Epoch 171/1000\n",
      "18/18 - 0s - loss: 2.5805 - reconstruction_loss: 1.4921 - kl_loss: 1.1001 - val_loss: 17.5106 - val_reconstruction_loss: 16.3288 - val_kl_loss: 1.1204\n",
      "Epoch 172/1000\n",
      "18/18 - 0s - loss: 2.5953 - reconstruction_loss: 1.4992 - kl_loss: 1.0998 - val_loss: 17.4599 - val_reconstruction_loss: 16.2943 - val_kl_loss: 1.1152\n",
      "Epoch 173/1000\n",
      "18/18 - 0s - loss: 2.6648 - reconstruction_loss: 1.5275 - kl_loss: 1.0927 - val_loss: 17.4789 - val_reconstruction_loss: 16.3165 - val_kl_loss: 1.1047\n",
      "Epoch 174/1000\n",
      "18/18 - 1s - loss: 2.6158 - reconstruction_loss: 1.5492 - kl_loss: 1.0928 - val_loss: 17.4491 - val_reconstruction_loss: 16.2842 - val_kl_loss: 1.1165\n",
      "Epoch 175/1000\n",
      "18/18 - 0s - loss: 2.5030 - reconstruction_loss: 1.5100 - kl_loss: 1.0907 - val_loss: 17.4696 - val_reconstruction_loss: 16.3086 - val_kl_loss: 1.1055\n",
      "Epoch 176/1000\n",
      "18/18 - 0s - loss: 2.6392 - reconstruction_loss: 1.5679 - kl_loss: 1.0881 - val_loss: 17.4576 - val_reconstruction_loss: 16.2973 - val_kl_loss: 1.1116\n",
      "Epoch 177/1000\n",
      "18/18 - 0s - loss: 2.5886 - reconstruction_loss: 1.5388 - kl_loss: 1.0871 - val_loss: 17.4531 - val_reconstruction_loss: 16.2994 - val_kl_loss: 1.1025\n",
      "Epoch 178/1000\n",
      "18/18 - 0s - loss: 2.7141 - reconstruction_loss: 1.5794 - kl_loss: 1.0858 - val_loss: 17.4895 - val_reconstruction_loss: 16.3202 - val_kl_loss: 1.1102\n",
      "Epoch 179/1000\n",
      "18/18 - 1s - loss: 2.5974 - reconstruction_loss: 1.4823 - kl_loss: 1.0924 - val_loss: 17.4811 - val_reconstruction_loss: 16.3140 - val_kl_loss: 1.1099\n",
      "Epoch 180/1000\n",
      "18/18 - 0s - loss: 2.6621 - reconstruction_loss: 1.5087 - kl_loss: 1.0944 - val_loss: 17.4501 - val_reconstruction_loss: 16.2907 - val_kl_loss: 1.1094\n",
      "Epoch 181/1000\n",
      "18/18 - 0s - loss: 2.5560 - reconstruction_loss: 1.5075 - kl_loss: 1.0956 - val_loss: 17.4453 - val_reconstruction_loss: 16.2862 - val_kl_loss: 1.1099\n",
      "Epoch 182/1000\n",
      "18/18 - 0s - loss: 2.6295 - reconstruction_loss: 1.4880 - kl_loss: 1.0899 - val_loss: 17.4276 - val_reconstruction_loss: 16.2803 - val_kl_loss: 1.0999\n",
      "Epoch 183/1000\n",
      "18/18 - 0s - loss: 2.4908 - reconstruction_loss: 1.5055 - kl_loss: 1.0816 - val_loss: 17.4805 - val_reconstruction_loss: 16.3247 - val_kl_loss: 1.0955\n",
      "Epoch 184/1000\n",
      "18/18 - 1s - loss: 2.7581 - reconstruction_loss: 1.4680 - kl_loss: 1.0822 - val_loss: 17.4975 - val_reconstruction_loss: 16.3370 - val_kl_loss: 1.0965\n",
      "Epoch 185/1000\n",
      "18/18 - 0s - loss: 2.6058 - reconstruction_loss: 1.4291 - kl_loss: 1.0771 - val_loss: 17.4281 - val_reconstruction_loss: 16.2925 - val_kl_loss: 1.0846\n",
      "Epoch 186/1000\n",
      "18/18 - 0s - loss: 2.5313 - reconstruction_loss: 1.4408 - kl_loss: 1.0657 - val_loss: 17.4831 - val_reconstruction_loss: 16.3417 - val_kl_loss: 1.0776\n",
      "Epoch 187/1000\n",
      "18/18 - 0s - loss: 2.4181 - reconstruction_loss: 1.4273 - kl_loss: 1.0541 - val_loss: 17.3904 - val_reconstruction_loss: 16.2814 - val_kl_loss: 1.0616\n",
      "Epoch 188/1000\n",
      "18/18 - 0s - loss: 2.5286 - reconstruction_loss: 1.4389 - kl_loss: 1.0466 - val_loss: 17.4418 - val_reconstruction_loss: 16.3226 - val_kl_loss: 1.0631\n",
      "Epoch 189/1000\n",
      "18/18 - 1s - loss: 2.4650 - reconstruction_loss: 1.4509 - kl_loss: 1.0493 - val_loss: 17.4321 - val_reconstruction_loss: 16.3098 - val_kl_loss: 1.0670\n",
      "Epoch 190/1000\n",
      "18/18 - 0s - loss: 2.4778 - reconstruction_loss: 1.5348 - kl_loss: 1.0512 - val_loss: 17.4520 - val_reconstruction_loss: 16.3186 - val_kl_loss: 1.0747\n",
      "Epoch 191/1000\n",
      "18/18 - 0s - loss: 2.7098 - reconstruction_loss: 1.5399 - kl_loss: 1.0619 - val_loss: 17.4341 - val_reconstruction_loss: 16.3004 - val_kl_loss: 1.0803\n",
      "Epoch 192/1000\n",
      "18/18 - 0s - loss: 2.5629 - reconstruction_loss: 1.4650 - kl_loss: 1.0618 - val_loss: 17.4293 - val_reconstruction_loss: 16.2971 - val_kl_loss: 1.0798\n",
      "Epoch 193/1000\n",
      "18/18 - 0s - loss: 2.5421 - reconstruction_loss: 1.4774 - kl_loss: 1.0612 - val_loss: 17.4459 - val_reconstruction_loss: 16.3068 - val_kl_loss: 1.0839\n",
      "Epoch 194/1000\n",
      "18/18 - 1s - loss: 2.4959 - reconstruction_loss: 1.4843 - kl_loss: 1.0599 - val_loss: 17.5156 - val_reconstruction_loss: 16.3635 - val_kl_loss: 1.0804\n",
      "Epoch 195/1000\n",
      "18/18 - 0s - loss: 2.6044 - reconstruction_loss: 1.4664 - kl_loss: 1.0643 - val_loss: 17.4479 - val_reconstruction_loss: 16.3028 - val_kl_loss: 1.0910\n",
      "Epoch 196/1000\n",
      "18/18 - 0s - loss: 2.5267 - reconstruction_loss: 1.4523 - kl_loss: 1.0619 - val_loss: 17.4435 - val_reconstruction_loss: 16.3110 - val_kl_loss: 1.0760\n",
      "Epoch 197/1000\n",
      "18/18 - 0s - loss: 2.7212 - reconstruction_loss: 1.4835 - kl_loss: 1.0571 - val_loss: 17.4596 - val_reconstruction_loss: 16.3240 - val_kl_loss: 1.0753\n",
      "Epoch 198/1000\n",
      "18/18 - 0s - loss: 2.5150 - reconstruction_loss: 1.6006 - kl_loss: 1.0676 - val_loss: 17.5091 - val_reconstruction_loss: 16.3487 - val_kl_loss: 1.0929\n",
      "Epoch 199/1000\n",
      "18/18 - 1s - loss: 2.7188 - reconstruction_loss: 1.5905 - kl_loss: 1.0924 - val_loss: 17.4913 - val_reconstruction_loss: 16.3091 - val_kl_loss: 1.1263\n",
      "Epoch 200/1000\n",
      "18/18 - 0s - loss: 2.6239 - reconstruction_loss: 1.5078 - kl_loss: 1.1113 - val_loss: 17.4819 - val_reconstruction_loss: 16.3008 - val_kl_loss: 1.1283\n"
     ]
    },
    {
     "name": "stdout",
     "output_type": "stream",
     "text": [
      "Epoch 201/1000\n",
      "18/18 - 0s - loss: 2.6141 - reconstruction_loss: 1.5071 - kl_loss: 1.1046 - val_loss: 17.4721 - val_reconstruction_loss: 16.3042 - val_kl_loss: 1.1135\n",
      "Epoch 202/1000\n",
      "18/18 - 0s - loss: 2.6259 - reconstruction_loss: 1.4583 - kl_loss: 1.0910 - val_loss: 17.4974 - val_reconstruction_loss: 16.3271 - val_kl_loss: 1.1092\n",
      "Epoch 203/1000\n",
      "18/18 - 0s - loss: 2.5176 - reconstruction_loss: 1.4716 - kl_loss: 1.0970 - val_loss: 17.4669 - val_reconstruction_loss: 16.2981 - val_kl_loss: 1.1162\n",
      "Epoch 204/1000\n",
      "18/18 - 1s - loss: 2.6322 - reconstruction_loss: 1.4909 - kl_loss: 1.0976 - val_loss: 17.5041 - val_reconstruction_loss: 16.3291 - val_kl_loss: 1.1133\n",
      "Epoch 205/1000\n",
      "18/18 - 0s - loss: 2.4696 - reconstruction_loss: 1.5226 - kl_loss: 1.0993 - val_loss: 17.5043 - val_reconstruction_loss: 16.3256 - val_kl_loss: 1.1179\n",
      "Epoch 206/1000\n",
      "18/18 - 0s - loss: 2.5255 - reconstruction_loss: 1.4856 - kl_loss: 1.1032 - val_loss: 17.4762 - val_reconstruction_loss: 16.3043 - val_kl_loss: 1.1175\n",
      "Epoch 207/1000\n",
      "18/18 - 0s - loss: 2.6130 - reconstruction_loss: 1.4463 - kl_loss: 1.1023 - val_loss: 17.4801 - val_reconstruction_loss: 16.3049 - val_kl_loss: 1.1217\n",
      "Epoch 208/1000\n",
      "18/18 - 0s - loss: 2.6068 - reconstruction_loss: 1.4831 - kl_loss: 1.1061 - val_loss: 17.5040 - val_reconstruction_loss: 16.3184 - val_kl_loss: 1.1269\n",
      "Epoch 209/1000\n",
      "18/18 - 0s - loss: 2.6168 - reconstruction_loss: 1.5085 - kl_loss: 1.1058 - val_loss: 17.4991 - val_reconstruction_loss: 16.3169 - val_kl_loss: 1.1240\n",
      "Epoch 210/1000\n",
      "18/18 - 0s - loss: 2.5575 - reconstruction_loss: 1.4982 - kl_loss: 1.0997 - val_loss: 17.4701 - val_reconstruction_loss: 16.3582 - val_kl_loss: 1.1211\n",
      "Epoch 211/1000\n",
      "18/18 - 0s - loss: 2.5055 - reconstruction_loss: 1.4446 - kl_loss: 1.1003 - val_loss: 17.4911 - val_reconstruction_loss: 16.3124 - val_kl_loss: 1.1227\n",
      "Epoch 212/1000\n",
      "18/18 - 0s - loss: 2.6318 - reconstruction_loss: 1.4833 - kl_loss: 1.1035 - val_loss: 17.5270 - val_reconstruction_loss: 16.3406 - val_kl_loss: 1.1212\n",
      "Epoch 213/1000\n",
      "18/18 - 0s - loss: 2.4220 - reconstruction_loss: 1.4817 - kl_loss: 1.1058 - val_loss: 17.5167 - val_reconstruction_loss: 16.3356 - val_kl_loss: 1.1211\n",
      "Epoch 214/1000\n",
      "18/18 - 0s - loss: 2.6014 - reconstruction_loss: 1.4853 - kl_loss: 1.1022 - val_loss: 17.5476 - val_reconstruction_loss: 16.3629 - val_kl_loss: 1.1133\n",
      "Epoch 215/1000\n",
      "18/18 - 1s - loss: 2.5016 - reconstruction_loss: 1.4655 - kl_loss: 1.0921 - val_loss: 17.5189 - val_reconstruction_loss: 16.3508 - val_kl_loss: 1.1001\n",
      "Epoch 216/1000\n",
      "18/18 - 0s - loss: 2.3915 - reconstruction_loss: 1.4692 - kl_loss: 1.0786 - val_loss: 17.4842 - val_reconstruction_loss: 16.3350 - val_kl_loss: 1.0860\n",
      "Epoch 217/1000\n",
      "18/18 - 0s - loss: 2.6211 - reconstruction_loss: 1.4410 - kl_loss: 1.0682 - val_loss: 17.4996 - val_reconstruction_loss: 16.3493 - val_kl_loss: 1.0826\n",
      "Epoch 218/1000\n",
      "18/18 - 0s - loss: 2.4534 - reconstruction_loss: 1.4745 - kl_loss: 1.0665 - val_loss: 17.5038 - val_reconstruction_loss: 16.3480 - val_kl_loss: 1.0886\n",
      "Epoch 219/1000\n",
      "18/18 - 0s - loss: 2.6304 - reconstruction_loss: 1.4521 - kl_loss: 1.0791 - val_loss: 17.5062 - val_reconstruction_loss: 16.3452 - val_kl_loss: 1.0946\n",
      "Epoch 220/1000\n",
      "18/18 - 1s - loss: 2.4507 - reconstruction_loss: 1.4014 - kl_loss: 1.0748 - val_loss: 17.4635 - val_reconstruction_loss: 16.3238 - val_kl_loss: 1.0805\n",
      "Epoch 221/1000\n",
      "18/18 - 0s - loss: 2.4921 - reconstruction_loss: 1.4290 - kl_loss: 1.0709 - val_loss: 17.4663 - val_reconstruction_loss: 16.3258 - val_kl_loss: 1.0833\n",
      "Epoch 222/1000\n",
      "18/18 - 0s - loss: 2.6488 - reconstruction_loss: 1.5288 - kl_loss: 1.0816 - val_loss: 17.4741 - val_reconstruction_loss: 16.3223 - val_kl_loss: 1.0926\n",
      "Epoch 223/1000\n",
      "18/18 - 0s - loss: 2.6638 - reconstruction_loss: 1.5032 - kl_loss: 1.0898 - val_loss: 17.5379 - val_reconstruction_loss: 16.3712 - val_kl_loss: 1.0926\n",
      "Epoch 224/1000\n",
      "18/18 - 0s - loss: 2.4663 - reconstruction_loss: 1.4869 - kl_loss: 1.0888 - val_loss: 17.4265 - val_reconstruction_loss: 16.2860 - val_kl_loss: 1.0915\n",
      "Epoch 225/1000\n",
      "18/18 - 1s - loss: 2.4956 - reconstruction_loss: 1.4507 - kl_loss: 1.0842 - val_loss: 17.4883 - val_reconstruction_loss: 16.3314 - val_kl_loss: 1.0945\n",
      "Epoch 226/1000\n",
      "18/18 - 0s - loss: 2.6405 - reconstruction_loss: 1.5116 - kl_loss: 1.0865 - val_loss: 17.5263 - val_reconstruction_loss: 16.3568 - val_kl_loss: 1.0997\n",
      "Epoch 227/1000\n",
      "18/18 - 0s - loss: 2.6374 - reconstruction_loss: 1.4717 - kl_loss: 1.0888 - val_loss: 17.4327 - val_reconstruction_loss: 16.2869 - val_kl_loss: 1.0966\n",
      "Epoch 228/1000\n",
      "18/18 - 0s - loss: 2.5669 - reconstruction_loss: 1.4093 - kl_loss: 1.0835 - val_loss: 17.4404 - val_reconstruction_loss: 16.3000 - val_kl_loss: 1.0875\n",
      "Epoch 229/1000\n",
      "18/18 - 0s - loss: 2.5379 - reconstruction_loss: 1.4895 - kl_loss: 1.0708 - val_loss: 17.4260 - val_reconstruction_loss: 16.2974 - val_kl_loss: 1.0762\n",
      "Epoch 230/1000\n",
      "18/18 - 1s - loss: 2.5769 - reconstruction_loss: 1.4671 - kl_loss: 1.0696 - val_loss: 17.4779 - val_reconstruction_loss: 16.3320 - val_kl_loss: 1.0834\n",
      "Epoch 231/1000\n",
      "18/18 - 0s - loss: 2.6082 - reconstruction_loss: 1.5196 - kl_loss: 1.0797 - val_loss: 17.4317 - val_reconstruction_loss: 16.2894 - val_kl_loss: 1.0922\n",
      "Epoch 232/1000\n",
      "18/18 - 0s - loss: 2.5876 - reconstruction_loss: 1.4835 - kl_loss: 1.0845 - val_loss: 17.5008 - val_reconstruction_loss: 16.3458 - val_kl_loss: 1.0885\n",
      "Epoch 233/1000\n",
      "18/18 - 0s - loss: 2.4655 - reconstruction_loss: 1.4664 - kl_loss: 1.0821 - val_loss: 17.4317 - val_reconstruction_loss: 16.2953 - val_kl_loss: 1.0845\n",
      "Epoch 234/1000\n",
      "18/18 - 0s - loss: 2.4991 - reconstruction_loss: 1.4356 - kl_loss: 1.0780 - val_loss: 17.5050 - val_reconstruction_loss: 16.3504 - val_kl_loss: 1.0866\n",
      "Epoch 235/1000\n",
      "18/18 - 1s - loss: 2.5760 - reconstruction_loss: 1.4445 - kl_loss: 1.0821 - val_loss: 17.5337 - val_reconstruction_loss: 16.3661 - val_kl_loss: 1.0950\n",
      "Epoch 236/1000\n",
      "18/18 - 0s - loss: 2.5517 - reconstruction_loss: 1.5250 - kl_loss: 1.0882 - val_loss: 17.5251 - val_reconstruction_loss: 16.3520 - val_kl_loss: 1.1047\n",
      "Epoch 237/1000\n",
      "18/18 - 0s - loss: 2.4364 - reconstruction_loss: 1.5315 - kl_loss: 1.0936 - val_loss: 17.5236 - val_reconstruction_loss: 16.3450 - val_kl_loss: 1.1122\n",
      "Epoch 238/1000\n",
      "18/18 - 0s - loss: 2.6759 - reconstruction_loss: 1.4830 - kl_loss: 1.1032 - val_loss: 17.5462 - val_reconstruction_loss: 16.3593 - val_kl_loss: 1.1166\n",
      "Epoch 239/1000\n",
      "18/18 - 0s - loss: 2.4602 - reconstruction_loss: 1.4836 - kl_loss: 1.1073 - val_loss: 17.5239 - val_reconstruction_loss: 16.3347 - val_kl_loss: 1.1263\n",
      "Epoch 240/1000\n",
      "18/18 - 1s - loss: 2.5662 - reconstruction_loss: 1.4674 - kl_loss: 1.1111 - val_loss: 17.5020 - val_reconstruction_loss: 16.3178 - val_kl_loss: 1.1257\n",
      "Epoch 241/1000\n",
      "18/18 - 0s - loss: 2.5796 - reconstruction_loss: 1.5040 - kl_loss: 1.1096 - val_loss: 17.5361 - val_reconstruction_loss: 16.3494 - val_kl_loss: 1.1190\n",
      "Epoch 242/1000\n",
      "18/18 - 0s - loss: 2.4287 - reconstruction_loss: 1.4597 - kl_loss: 1.0997 - val_loss: 17.4649 - val_reconstruction_loss: 16.2982 - val_kl_loss: 1.1140\n",
      "Epoch 243/1000\n",
      "18/18 - 0s - loss: 2.5165 - reconstruction_loss: 1.4887 - kl_loss: 1.0933 - val_loss: 17.5015 - val_reconstruction_loss: 16.3309 - val_kl_loss: 1.1083\n",
      "Epoch 244/1000\n",
      "18/18 - 0s - loss: 2.7010 - reconstruction_loss: 1.5334 - kl_loss: 1.0956 - val_loss: 17.5248 - val_reconstruction_loss: 16.3461 - val_kl_loss: 1.1180\n",
      "Epoch 245/1000\n",
      "18/18 - 1s - loss: 2.4295 - reconstruction_loss: 1.4453 - kl_loss: 1.1024 - val_loss: 17.4984 - val_reconstruction_loss: 16.3344 - val_kl_loss: 1.1118\n",
      "Epoch 246/1000\n",
      "18/18 - 0s - loss: 2.6389 - reconstruction_loss: 1.4719 - kl_loss: 1.0905 - val_loss: 17.5286 - val_reconstruction_loss: 16.3657 - val_kl_loss: 1.0904\n",
      "Epoch 247/1000\n",
      "18/18 - 0s - loss: 2.4701 - reconstruction_loss: 1.4578 - kl_loss: 1.0787 - val_loss: 17.4646 - val_reconstruction_loss: 16.3146 - val_kl_loss: 1.0926\n",
      "Epoch 248/1000\n",
      "18/18 - 0s - loss: 2.5144 - reconstruction_loss: 1.4675 - kl_loss: 1.0791 - val_loss: 17.4548 - val_reconstruction_loss: 16.3057 - val_kl_loss: 1.0941\n",
      "Epoch 249/1000\n",
      "18/18 - 1s - loss: 2.5125 - reconstruction_loss: 1.4430 - kl_loss: 1.0789 - val_loss: 17.4739 - val_reconstruction_loss: 16.3222 - val_kl_loss: 1.0948\n",
      "Epoch 250/1000\n",
      "18/18 - 0s - loss: 2.4682 - reconstruction_loss: 1.4445 - kl_loss: 1.0680 - val_loss: 17.5125 - val_reconstruction_loss: 16.3691 - val_kl_loss: 1.0700\n"
     ]
    },
    {
     "name": "stdout",
     "output_type": "stream",
     "text": [
      "Epoch 251/1000\n",
      "18/18 - 0s - loss: 2.5884 - reconstruction_loss: 1.4992 - kl_loss: 1.0566 - val_loss: 17.4383 - val_reconstruction_loss: 16.3144 - val_kl_loss: 1.0664\n",
      "Epoch 252/1000\n",
      "18/18 - 0s - loss: 2.5152 - reconstruction_loss: 1.4993 - kl_loss: 1.0616 - val_loss: 17.4513 - val_reconstruction_loss: 16.3512 - val_kl_loss: 1.0794\n",
      "Epoch 253/1000\n",
      "18/18 - 0s - loss: 2.4026 - reconstruction_loss: 1.4283 - kl_loss: 1.0701 - val_loss: 17.4723 - val_reconstruction_loss: 16.3232 - val_kl_loss: 1.0891\n",
      "Epoch 254/1000\n",
      "18/18 - 1s - loss: 2.5745 - reconstruction_loss: 1.4281 - kl_loss: 1.0746 - val_loss: 17.4714 - val_reconstruction_loss: 16.3191 - val_kl_loss: 1.0935\n",
      "Epoch 255/1000\n",
      "18/18 - 0s - loss: 2.4080 - reconstruction_loss: 1.5100 - kl_loss: 1.0757 - val_loss: 17.5868 - val_reconstruction_loss: 16.4043 - val_kl_loss: 1.0990\n",
      "Epoch 256/1000\n",
      "18/18 - 0s - loss: 2.4084 - reconstruction_loss: 1.3806 - kl_loss: 1.0745 - val_loss: 17.4940 - val_reconstruction_loss: 16.3396 - val_kl_loss: 1.0897\n",
      "Epoch 257/1000\n",
      "18/18 - 0s - loss: 2.5000 - reconstruction_loss: 1.4424 - kl_loss: 1.0650 - val_loss: 17.4791 - val_reconstruction_loss: 16.3319 - val_kl_loss: 1.0848\n",
      "Epoch 258/1000\n",
      "18/18 - 0s - loss: 2.6278 - reconstruction_loss: 1.4979 - kl_loss: 1.0663 - val_loss: 17.5043 - val_reconstruction_loss: 16.3472 - val_kl_loss: 1.0900\n",
      "Epoch 259/1000\n",
      "18/18 - 0s - loss: 2.5111 - reconstruction_loss: 1.4822 - kl_loss: 1.0671 - val_loss: 17.5221 - val_reconstruction_loss: 16.3641 - val_kl_loss: 1.0860\n",
      "Epoch 260/1000\n",
      "18/18 - 1s - loss: 2.4144 - reconstruction_loss: 1.4601 - kl_loss: 1.0625 - val_loss: 17.4882 - val_reconstruction_loss: 16.3410 - val_kl_loss: 1.0819\n",
      "Epoch 261/1000\n",
      "18/18 - 0s - loss: 2.4852 - reconstruction_loss: 1.4753 - kl_loss: 1.0617 - val_loss: 17.5508 - val_reconstruction_loss: 16.3838 - val_kl_loss: 1.0892\n",
      "Epoch 262/1000\n",
      "18/18 - 0s - loss: 2.5968 - reconstruction_loss: 1.4767 - kl_loss: 1.0733 - val_loss: 17.5685 - val_reconstruction_loss: 16.3877 - val_kl_loss: 1.1018\n",
      "Epoch 263/1000\n",
      "18/18 - 0s - loss: 2.5975 - reconstruction_loss: 1.5059 - kl_loss: 1.0859 - val_loss: 17.5818 - val_reconstruction_loss: 16.3874 - val_kl_loss: 1.1158\n",
      "Epoch 264/1000\n",
      "18/18 - 0s - loss: 2.7239 - reconstruction_loss: 1.5613 - kl_loss: 1.0941 - val_loss: 17.5155 - val_reconstruction_loss: 16.3319 - val_kl_loss: 1.1210\n",
      "Epoch 265/1000\n",
      "18/18 - 0s - loss: 2.5855 - reconstruction_loss: 1.4646 - kl_loss: 1.1010 - val_loss: 17.5288 - val_reconstruction_loss: 16.3352 - val_kl_loss: 1.1301\n",
      "Epoch 266/1000\n",
      "18/18 - 0s - loss: 2.5580 - reconstruction_loss: 1.5131 - kl_loss: 1.1038 - val_loss: 17.5709 - val_reconstruction_loss: 16.3701 - val_kl_loss: 1.1271\n",
      "Epoch 267/1000\n",
      "18/18 - 0s - loss: 2.4500 - reconstruction_loss: 1.4505 - kl_loss: 1.0988 - val_loss: 17.6637 - val_reconstruction_loss: 16.4467 - val_kl_loss: 1.1211\n",
      "Epoch 268/1000\n",
      "18/18 - 0s - loss: 2.5824 - reconstruction_loss: 1.4502 - kl_loss: 1.0914 - val_loss: 17.5563 - val_reconstruction_loss: 16.3751 - val_kl_loss: 1.1064\n",
      "Epoch 269/1000\n",
      "18/18 - 0s - loss: 2.3915 - reconstruction_loss: 1.4119 - kl_loss: 1.0794 - val_loss: 17.5181 - val_reconstruction_loss: 16.3555 - val_kl_loss: 1.0938\n",
      "Epoch 270/1000\n",
      "18/18 - 0s - loss: 2.6780 - reconstruction_loss: 1.4447 - kl_loss: 1.0712 - val_loss: 17.5145 - val_reconstruction_loss: 16.3499 - val_kl_loss: 1.0972\n",
      "Epoch 271/1000\n",
      "18/18 - 1s - loss: 2.7511 - reconstruction_loss: 1.4816 - kl_loss: 1.0810 - val_loss: 17.5408 - val_reconstruction_loss: 16.3615 - val_kl_loss: 1.1081\n",
      "Epoch 272/1000\n",
      "18/18 - 0s - loss: 2.5380 - reconstruction_loss: 1.4951 - kl_loss: 1.0911 - val_loss: 17.5317 - val_reconstruction_loss: 16.3488 - val_kl_loss: 1.1153\n",
      "Epoch 273/1000\n",
      "18/18 - 0s - loss: 2.6528 - reconstruction_loss: 1.4852 - kl_loss: 1.0972 - val_loss: 17.5308 - val_reconstruction_loss: 16.3456 - val_kl_loss: 1.1188\n",
      "Epoch 274/1000\n",
      "18/18 - 0s - loss: 2.6439 - reconstruction_loss: 1.4302 - kl_loss: 1.1028 - val_loss: 17.5192 - val_reconstruction_loss: 16.3293 - val_kl_loss: 1.1283\n",
      "Epoch 275/1000\n",
      "18/18 - 0s - loss: 2.5858 - reconstruction_loss: 1.3967 - kl_loss: 1.1016 - val_loss: 17.5228 - val_reconstruction_loss: 16.3434 - val_kl_loss: 1.1136\n",
      "Epoch 276/1000\n",
      "18/18 - 1s - loss: 2.4664 - reconstruction_loss: 1.3372 - kl_loss: 1.0810 - val_loss: 17.4692 - val_reconstruction_loss: 16.3216 - val_kl_loss: 1.0882\n",
      "Epoch 277/1000\n",
      "18/18 - 0s - loss: 2.4933 - reconstruction_loss: 1.3514 - kl_loss: 1.0601 - val_loss: 17.5316 - val_reconstruction_loss: 16.3805 - val_kl_loss: 1.0742\n",
      "Epoch 278/1000\n",
      "18/18 - 0s - loss: 2.3156 - reconstruction_loss: 1.3576 - kl_loss: 1.0544 - val_loss: 17.4267 - val_reconstruction_loss: 16.3013 - val_kl_loss: 1.0718\n",
      "Epoch 279/1000\n",
      "18/18 - 0s - loss: 2.5855 - reconstruction_loss: 1.3461 - kl_loss: 1.0522 - val_loss: 17.4404 - val_reconstruction_loss: 16.3150 - val_kl_loss: 1.0681\n",
      "Epoch 280/1000\n",
      "18/18 - 0s - loss: 2.4496 - reconstruction_loss: 1.3739 - kl_loss: 1.0475 - val_loss: 17.4379 - val_reconstruction_loss: 16.3123 - val_kl_loss: 1.0690\n",
      "Epoch 281/1000\n",
      "18/18 - 0s - loss: 2.6072 - reconstruction_loss: 1.4570 - kl_loss: 1.0520 - val_loss: 17.4891 - val_reconstruction_loss: 16.3462 - val_kl_loss: 1.0761\n",
      "Epoch 282/1000\n",
      "18/18 - 1s - loss: 2.5466 - reconstruction_loss: 1.4647 - kl_loss: 1.0690 - val_loss: 17.5217 - val_reconstruction_loss: 16.3534 - val_kl_loss: 1.0996\n",
      "Epoch 283/1000\n",
      "18/18 - 0s - loss: 2.4341 - reconstruction_loss: 1.4451 - kl_loss: 1.0834 - val_loss: 17.4964 - val_reconstruction_loss: 16.3247 - val_kl_loss: 1.1115\n",
      "Epoch 284/1000\n",
      "18/18 - 0s - loss: 2.5586 - reconstruction_loss: 1.4329 - kl_loss: 1.0869 - val_loss: 17.5339 - val_reconstruction_loss: 16.3614 - val_kl_loss: 1.1017\n",
      "Epoch 285/1000\n",
      "18/18 - 0s - loss: 2.5818 - reconstruction_loss: 1.4091 - kl_loss: 1.0815 - val_loss: 17.5001 - val_reconstruction_loss: 16.3457 - val_kl_loss: 1.0952\n",
      "Epoch 286/1000\n",
      "18/18 - 0s - loss: 2.4047 - reconstruction_loss: 1.4556 - kl_loss: 1.0756 - val_loss: 17.5542 - val_reconstruction_loss: 16.3871 - val_kl_loss: 1.0891\n",
      "Epoch 287/1000\n",
      "18/18 - 1s - loss: 2.2990 - reconstruction_loss: 1.3859 - kl_loss: 1.0746 - val_loss: 17.5326 - val_reconstruction_loss: 16.3717 - val_kl_loss: 1.0871\n",
      "Epoch 288/1000\n",
      "18/18 - 0s - loss: 2.4396 - reconstruction_loss: 1.3747 - kl_loss: 1.0684 - val_loss: 17.4968 - val_reconstruction_loss: 16.3502 - val_kl_loss: 1.0787\n",
      "Epoch 289/1000\n",
      "18/18 - 0s - loss: 2.4273 - reconstruction_loss: 1.3718 - kl_loss: 1.0598 - val_loss: 17.4773 - val_reconstruction_loss: 16.3385 - val_kl_loss: 1.0772\n",
      "Epoch 290/1000\n",
      "18/18 - 0s - loss: 2.4397 - reconstruction_loss: 1.4272 - kl_loss: 1.0620 - val_loss: 17.4590 - val_reconstruction_loss: 16.3148 - val_kl_loss: 1.0867\n",
      "Epoch 291/1000\n",
      "18/18 - 0s - loss: 2.5842 - reconstruction_loss: 1.3830 - kl_loss: 1.0707 - val_loss: 17.4652 - val_reconstruction_loss: 16.3158 - val_kl_loss: 1.0917\n",
      "Epoch 292/1000\n",
      "18/18 - 1s - loss: 2.4727 - reconstruction_loss: 1.4060 - kl_loss: 1.0794 - val_loss: 17.5365 - val_reconstruction_loss: 16.3594 - val_kl_loss: 1.1068\n",
      "Epoch 293/1000\n",
      "18/18 - 0s - loss: 2.4589 - reconstruction_loss: 1.4256 - kl_loss: 1.0872 - val_loss: 17.5307 - val_reconstruction_loss: 16.3529 - val_kl_loss: 1.1092\n",
      "Epoch 294/1000\n",
      "18/18 - 0s - loss: 2.5401 - reconstruction_loss: 1.4036 - kl_loss: 1.0912 - val_loss: 17.5265 - val_reconstruction_loss: 16.3482 - val_kl_loss: 1.1121\n",
      "Epoch 295/1000\n",
      "18/18 - 0s - loss: 2.4483 - reconstruction_loss: 1.3800 - kl_loss: 1.0932 - val_loss: 17.5351 - val_reconstruction_loss: 16.3537 - val_kl_loss: 1.1134\n",
      "Epoch 296/1000\n",
      "18/18 - 0s - loss: 2.6315 - reconstruction_loss: 1.4513 - kl_loss: 1.0901 - val_loss: 17.5281 - val_reconstruction_loss: 16.3527 - val_kl_loss: 1.1072\n",
      "Epoch 297/1000\n",
      "18/18 - 1s - loss: 2.5152 - reconstruction_loss: 1.3930 - kl_loss: 1.0811 - val_loss: 17.4676 - val_reconstruction_loss: 16.3143 - val_kl_loss: 1.0959\n",
      "Epoch 298/1000\n",
      "18/18 - 0s - loss: 2.5246 - reconstruction_loss: 1.4354 - kl_loss: 1.0734 - val_loss: 17.4769 - val_reconstruction_loss: 16.3318 - val_kl_loss: 1.0890\n",
      "Epoch 299/1000\n",
      "18/18 - 0s - loss: 2.5767 - reconstruction_loss: 1.4885 - kl_loss: 1.0722 - val_loss: 17.4743 - val_reconstruction_loss: 16.3257 - val_kl_loss: 1.0940\n",
      "Epoch 300/1000\n",
      "18/18 - 0s - loss: 2.4762 - reconstruction_loss: 1.4042 - kl_loss: 1.0768 - val_loss: 17.4782 - val_reconstruction_loss: 16.3204 - val_kl_loss: 1.0990\n"
     ]
    },
    {
     "name": "stdout",
     "output_type": "stream",
     "text": [
      "Epoch 301/1000\n",
      "18/18 - 0s - loss: 2.3465 - reconstruction_loss: 1.3876 - kl_loss: 1.0781 - val_loss: 17.4995 - val_reconstruction_loss: 16.3416 - val_kl_loss: 1.0932\n",
      "Epoch 302/1000\n",
      "18/18 - 1s - loss: 2.4610 - reconstruction_loss: 1.3838 - kl_loss: 1.0724 - val_loss: 17.4899 - val_reconstruction_loss: 16.3354 - val_kl_loss: 1.0908\n",
      "Epoch 303/1000\n",
      "18/18 - 0s - loss: 2.5698 - reconstruction_loss: 1.3964 - kl_loss: 1.0734 - val_loss: 17.5201 - val_reconstruction_loss: 16.3550 - val_kl_loss: 1.0961\n",
      "Epoch 304/1000\n",
      "18/18 - 0s - loss: 2.5340 - reconstruction_loss: 1.3791 - kl_loss: 1.0798 - val_loss: 17.5652 - val_reconstruction_loss: 16.3926 - val_kl_loss: 1.0933\n",
      "Epoch 305/1000\n",
      "18/18 - 0s - loss: 2.4097 - reconstruction_loss: 1.4110 - kl_loss: 1.0678 - val_loss: 17.4640 - val_reconstruction_loss: 16.3249 - val_kl_loss: 1.0787\n",
      "Epoch 306/1000\n",
      "18/18 - 0s - loss: 2.3188 - reconstruction_loss: 1.3658 - kl_loss: 1.0622 - val_loss: 17.4606 - val_reconstruction_loss: 16.3251 - val_kl_loss: 1.0749\n",
      "Epoch 307/1000\n",
      "18/18 - 0s - loss: 2.5399 - reconstruction_loss: 1.3649 - kl_loss: 1.0566 - val_loss: 17.4393 - val_reconstruction_loss: 16.3153 - val_kl_loss: 1.0663\n",
      "Epoch 308/1000\n",
      "18/18 - 1s - loss: 2.3574 - reconstruction_loss: 1.3447 - kl_loss: 1.0485 - val_loss: 17.4262 - val_reconstruction_loss: 16.3099 - val_kl_loss: 1.0601\n",
      "Epoch 309/1000\n",
      "18/18 - 0s - loss: 2.3501 - reconstruction_loss: 1.3723 - kl_loss: 1.0417 - val_loss: 17.3959 - val_reconstruction_loss: 16.2967 - val_kl_loss: 1.0527\n",
      "Epoch 310/1000\n",
      "18/18 - 0s - loss: 2.6291 - reconstruction_loss: 1.3930 - kl_loss: 1.0428 - val_loss: 17.4596 - val_reconstruction_loss: 16.3383 - val_kl_loss: 1.0573\n",
      "Epoch 311/1000\n",
      "18/18 - 0s - loss: 2.3128 - reconstruction_loss: 1.4120 - kl_loss: 1.0481 - val_loss: 17.4315 - val_reconstruction_loss: 16.3103 - val_kl_loss: 1.0652\n",
      "Epoch 312/1000\n",
      "18/18 - 0s - loss: 2.4599 - reconstruction_loss: 1.4500 - kl_loss: 1.0587 - val_loss: 17.4617 - val_reconstruction_loss: 16.3255 - val_kl_loss: 1.0754\n",
      "Epoch 313/1000\n",
      "18/18 - 0s - loss: 2.4953 - reconstruction_loss: 1.4697 - kl_loss: 1.0647 - val_loss: 17.4864 - val_reconstruction_loss: 16.3436 - val_kl_loss: 1.0782\n",
      "Epoch 314/1000\n",
      "18/18 - 0s - loss: 2.5569 - reconstruction_loss: 1.4223 - kl_loss: 1.0651 - val_loss: 17.4978 - val_reconstruction_loss: 16.3541 - val_kl_loss: 1.0764\n",
      "Epoch 315/1000\n",
      "18/18 - 0s - loss: 2.4260 - reconstruction_loss: 1.4662 - kl_loss: 1.0664 - val_loss: 17.4681 - val_reconstruction_loss: 16.3238 - val_kl_loss: 1.0860\n",
      "Epoch 316/1000\n",
      "18/18 - 0s - loss: 2.4426 - reconstruction_loss: 1.4121 - kl_loss: 1.0826 - val_loss: 17.4774 - val_reconstruction_loss: 16.3756 - val_kl_loss: 1.1051\n",
      "Epoch 317/1000\n",
      "18/18 - 0s - loss: 2.4596 - reconstruction_loss: 1.3851 - kl_loss: 1.0886 - val_loss: 17.5035 - val_reconstruction_loss: 16.3379 - val_kl_loss: 1.1043\n",
      "Epoch 318/1000\n",
      "18/18 - 1s - loss: 2.4571 - reconstruction_loss: 1.3997 - kl_loss: 1.0800 - val_loss: 17.4964 - val_reconstruction_loss: 16.3394 - val_kl_loss: 1.0925\n",
      "Epoch 319/1000\n",
      "18/18 - 0s - loss: 2.4708 - reconstruction_loss: 1.3766 - kl_loss: 1.0744 - val_loss: 17.4760 - val_reconstruction_loss: 16.3306 - val_kl_loss: 1.0857\n",
      "Epoch 320/1000\n",
      "18/18 - 0s - loss: 2.5009 - reconstruction_loss: 1.3343 - kl_loss: 1.0627 - val_loss: 17.4637 - val_reconstruction_loss: 16.3239 - val_kl_loss: 1.0797\n",
      "Epoch 321/1000\n",
      "18/18 - 0s - loss: 2.3170 - reconstruction_loss: 1.3629 - kl_loss: 1.0599 - val_loss: 17.4316 - val_reconstruction_loss: 16.3210 - val_kl_loss: 1.0730\n",
      "Epoch 322/1000\n",
      "18/18 - 0s - loss: 2.2752 - reconstruction_loss: 1.3445 - kl_loss: 1.0594 - val_loss: 17.4503 - val_reconstruction_loss: 16.3128 - val_kl_loss: 1.0806\n",
      "Epoch 323/1000\n",
      "18/18 - 1s - loss: 2.5763 - reconstruction_loss: 1.3985 - kl_loss: 1.0708 - val_loss: 17.5602 - val_reconstruction_loss: 16.4427 - val_kl_loss: 1.0922\n",
      "Epoch 324/1000\n",
      "18/18 - 0s - loss: 2.6464 - reconstruction_loss: 1.4263 - kl_loss: 1.0795 - val_loss: 17.5612 - val_reconstruction_loss: 16.3846 - val_kl_loss: 1.0988\n",
      "Epoch 325/1000\n",
      "18/18 - 0s - loss: 2.4674 - reconstruction_loss: 1.3230 - kl_loss: 1.0879 - val_loss: 17.4862 - val_reconstruction_loss: 16.3234 - val_kl_loss: 1.1043\n",
      "Epoch 326/1000\n",
      "18/18 - 0s - loss: 2.4903 - reconstruction_loss: 1.3470 - kl_loss: 1.0815 - val_loss: 17.5290 - val_reconstruction_loss: 16.3632 - val_kl_loss: 1.0943\n",
      "Epoch 327/1000\n",
      "18/18 - 0s - loss: 2.4616 - reconstruction_loss: 1.3550 - kl_loss: 1.0752 - val_loss: 17.5237 - val_reconstruction_loss: 16.3644 - val_kl_loss: 1.0872\n",
      "Epoch 328/1000\n",
      "18/18 - 0s - loss: 2.3977 - reconstruction_loss: 1.3276 - kl_loss: 1.0667 - val_loss: 17.4870 - val_reconstruction_loss: 16.3382 - val_kl_loss: 1.0851\n",
      "Epoch 329/1000\n",
      "18/18 - 0s - loss: 2.4354 - reconstruction_loss: 1.3327 - kl_loss: 1.0664 - val_loss: 17.5059 - val_reconstruction_loss: 16.3549 - val_kl_loss: 1.0827\n",
      "Epoch 330/1000\n",
      "18/18 - 0s - loss: 2.3995 - reconstruction_loss: 1.3280 - kl_loss: 1.0659 - val_loss: 17.4985 - val_reconstruction_loss: 16.3554 - val_kl_loss: 1.0764\n",
      "Epoch 331/1000\n",
      "18/18 - 0s - loss: 2.3567 - reconstruction_loss: 1.3667 - kl_loss: 1.0599 - val_loss: 17.4833 - val_reconstruction_loss: 16.3434 - val_kl_loss: 1.0740\n",
      "Epoch 332/1000\n",
      "18/18 - 0s - loss: 2.3760 - reconstruction_loss: 1.3582 - kl_loss: 1.0588 - val_loss: 17.4743 - val_reconstruction_loss: 16.3396 - val_kl_loss: 1.0699\n",
      "Epoch 333/1000\n",
      "18/18 - 0s - loss: 2.3734 - reconstruction_loss: 1.3632 - kl_loss: 1.0532 - val_loss: 17.4777 - val_reconstruction_loss: 16.4849 - val_kl_loss: 1.0692\n",
      "Epoch 334/1000\n",
      "18/18 - 1s - loss: 2.4277 - reconstruction_loss: 1.3417 - kl_loss: 1.0553 - val_loss: 17.4790 - val_reconstruction_loss: 16.3433 - val_kl_loss: 1.0700\n",
      "Epoch 335/1000\n",
      "18/18 - 0s - loss: 2.4831 - reconstruction_loss: 1.3538 - kl_loss: 1.0569 - val_loss: 17.4951 - val_reconstruction_loss: 16.3578 - val_kl_loss: 1.0671\n",
      "Epoch 336/1000\n",
      "18/18 - 0s - loss: 2.3744 - reconstruction_loss: 1.3420 - kl_loss: 1.0576 - val_loss: 17.5498 - val_reconstruction_loss: 16.3975 - val_kl_loss: 1.0706\n",
      "Epoch 337/1000\n",
      "18/18 - 0s - loss: 2.5688 - reconstruction_loss: 1.3997 - kl_loss: 1.0573 - val_loss: 17.4849 - val_reconstruction_loss: 16.3454 - val_kl_loss: 1.0731\n"
     ]
    },
    {
     "data": {
      "text/plain": [
       "<tensorflow.python.keras.callbacks.History at 0x7fe25c188610>"
      ]
     },
     "execution_count": 312,
     "metadata": {},
     "output_type": "execute_result"
    }
   ],
   "source": [
    "np.random.seed(42)\n",
    "\n",
    "cvae.fit(\n",
    "    # four inputs of encoder\n",
    "    x = [oheA_labels_train, oheB_labels_train,  is_magnetic_train, is_ns_train],    \n",
    "    \n",
    "    # two outputs of decoder\n",
    "    y = [oheA_labels_train, oheB_labels_train],\n",
    "    \n",
    "    # 15% split for validations\n",
    "    validation_split=0.15,\n",
    "    \n",
    "    # batch size\n",
    "    batch_size=128,\n",
    "    \n",
    "    # many epochs \n",
    "    epochs=1000,\n",
    "    # early stopping is used\n",
    "    callbacks=[es],\n",
    "    \n",
    "    # verbosity level\n",
    "    verbose=2,\n",
    ")"
   ]
  },
  {
   "cell_type": "code",
   "execution_count": 313,
   "id": "cc0b71e0",
   "metadata": {},
   "outputs": [
    {
     "data": {
      "text/plain": [
       "Text(0, 0.5, 'Loss')"
      ]
     },
     "execution_count": 313,
     "metadata": {},
     "output_type": "execute_result"
    },
    {
     "data": {
      "image/png": "[encoded data removed]",
      "text/plain": [
       "<Figure size 900x600 with 1 Axes>"
      ]
     },
     "metadata": {
      "needs_background": "light"
     },
     "output_type": "display_data"
    }
   ],
   "source": [
    "plt.figure(dpi=150)\n",
    "plt.plot(cvae.history.history[\"loss\"], ls=\"--\", label=\"Train\")\n",
    "plt.plot(cvae.history.history[\"val_loss\"], label=\"Validation\")\n",
    "plt.legend()\n",
    "plt.xlabel(\"Epoch\")\n",
    "plt.ylabel(\"Loss\")\n"
   ]
  },
  {
   "cell_type": "code",
   "execution_count": 314,
   "id": "f856e9ac",
   "metadata": {},
   "outputs": [
    {
     "data": {
      "text/plain": [
       "Text(0, 0.5, 'Reconstruction Loss')"
      ]
     },
     "execution_count": 314,
     "metadata": {},
     "output_type": "execute_result"
    },
    {
     "data": {
      "image/png": "[encoded data removed]",
      "text/plain": [
       "<Figure size 900x600 with 1 Axes>"
      ]
     },
     "metadata": {
      "needs_background": "light"
     },
     "output_type": "display_data"
    }
   ],
   "source": [
    "plt.figure(dpi=150)\n",
    "plt.plot(cvae.history.history[\"reconstruction_loss\"], ls=\"--\", label=\"Train\")\n",
    "plt.plot(cvae.history.history[\"val_reconstruction_loss\"], label=\"Validation\")\n",
    "plt.legend()\n",
    "plt.xlabel(\"Epoch\")\n",
    "plt.ylabel(\"Reconstruction Loss\")\n"
   ]
  },
  {
   "cell_type": "code",
   "execution_count": 315,
   "id": "9844ea02",
   "metadata": {},
   "outputs": [
    {
     "data": {
      "text/plain": [
       "Text(0, 0.5, 'Reconstruction Loss')"
      ]
     },
     "execution_count": 315,
     "metadata": {},
     "output_type": "execute_result"
    },
    {
     "data": {
      "image/png": "[encoded data removed]",
      "text/plain": [
       "<Figure size 900x600 with 1 Axes>"
      ]
     },
     "metadata": {
      "needs_background": "light"
     },
     "output_type": "display_data"
    }
   ],
   "source": [
    "plt.figure(dpi=150)\n",
    "plt.plot(cvae.history.history[\"reconstruction_loss\"], ls=\"--\", label=\"Train\")\n",
    "plt.plot(cvae.history.history[\"val_reconstruction_loss\"], label=\"Validation\")\n",
    "plt.legend()\n",
    "plt.xlabel(\"Epoch\")\n",
    "plt.ylabel(\"Reconstruction Loss\")\n"
   ]
  },
  {
   "cell_type": "code",
   "execution_count": 316,
   "id": "0cc63a81",
   "metadata": {},
   "outputs": [
    {
     "data": {
      "text/plain": [
       "Text(0, 0.5, 'KL-Loss')"
      ]
     },
     "execution_count": 316,
     "metadata": {},
     "output_type": "execute_result"
    },
    {
     "data": {
      "image/png": "[encoded data removed]",
      "text/plain": [
       "<Figure size 900x600 with 1 Axes>"
      ]
     },
     "metadata": {
      "needs_background": "light"
     },
     "output_type": "display_data"
    }
   ],
   "source": [
    "plt.figure(dpi=150)\n",
    "plt.plot(cvae.history.history[\"kl_loss\"], ls=\"--\", label=\"Train\")\n",
    "plt.plot(cvae.history.history[\"val_kl_loss\"], label=\"Validation\")\n",
    "plt.legend()\n",
    "plt.xlabel(\"Epoch\")\n",
    "plt.ylabel(\"KL-Loss\")\n"
   ]
  },
  {
   "cell_type": "markdown",
   "id": "7409c93e",
   "metadata": {},
   "source": [
    "## Accuracy for A and B "
   ]
  },
  {
   "cell_type": "code",
   "execution_count": 317,
   "id": "77da6db8",
   "metadata": {
    "scrolled": true
   },
   "outputs": [
    {
     "name": "stdout",
     "output_type": "stream",
     "text": [
      "Accuracy for A: 0.5778114350624763\n",
      "Accuracy for B: 0.6565694812570996\n"
     ]
    }
   ],
   "source": [
    "z_mean,z_log_var,z=encoder.predict([oheA_labels_train,\n",
    "                                    oheB_labels_train,\n",
    "                                    is_magnetic_train,is_ns_train])\n",
    "\n",
    "\n",
    "# Generating predictions from the cVAE\n",
    "from sklearn.metrics import confusion_matrix, f1_score\n",
    "\n",
    "z_mean, z_log_var, z = encoder.predict([oheA_labels_test, oheB_labels_test, is_magnetic_test, is_ns_test])\n",
    "out_A_OHE_pred, out_B_OHE_pred = decoder.predict([z, is_magnetic_test, is_ns_test])\n",
    "\n",
    "y_pred_A = np.argmax(out_A_OHE_pred, axis=1)\n",
    "y_pred_B = np.argmax(out_B_OHE_pred, axis=1)\n",
    "\n",
    "y_true_A = np.argmax(oheA_labels_test, axis=1)\n",
    "y_true_B = np.argmax(oheB_labels_test, axis=1)\n",
    "\n",
    "accuracy_A = np.mean(y_true_A == y_pred_A)\n",
    "accuracy_B = np.mean(y_true_B == y_pred_B)\n",
    "\n",
    "print(f'Accuracy for A: {accuracy_A}')\n",
    "print(f'Accuracy for B: {accuracy_B}')\n",
    "\n",
    "\n",
    "\n",
    "\n",
    "\n"
   ]
  },
  {
   "cell_type": "code",
   "execution_count": 318,
   "id": "d7883447",
   "metadata": {},
   "outputs": [
    {
     "data": {
      "text/plain": [
       "array([ 0.04093483,  0.02388048,  0.01668776, -0.05607645,  0.01634252,\n",
       "       -0.0145027 , -0.0796565 ,  0.07558987,  0.00595396, -0.08510551,\n",
       "        0.054816  , -0.02393716,  0.03239068, -0.00307314, -0.00393997,\n",
       "       -0.06575474, -0.0276444 ,  0.03614401, -0.07279015,  0.00862201,\n",
       "       -0.02431214, -0.02165411,  0.06111805, -0.06621342, -0.01032582],\n",
       "      dtype=float32)"
      ]
     },
     "execution_count": 318,
     "metadata": {},
     "output_type": "execute_result"
    }
   ],
   "source": [
    "ref_zmean = np.mean(z_mean, axis=0)\n",
    "ref_zmean"
   ]
  },
  {
   "cell_type": "code",
   "execution_count": 319,
   "id": "16c7bd96",
   "metadata": {},
   "outputs": [
    {
     "data": {
      "text/plain": [
       "array([-0.15118308, -0.01259874, -0.16643013, -0.08199231, -3.5696325 ,\n",
       "       -0.12868667, -3.2945259 , -3.4314783 , -3.3604474 , -3.1710315 ,\n",
       "       -0.08643273, -3.3223114 , -0.11197512, -0.10434847, -3.440944  ,\n",
       "       -3.421075  , -0.1073067 , -3.3547313 , -3.532945  , -3.1015546 ,\n",
       "       -0.10998555, -3.4987535 , -3.0243273 , -3.4405088 , -3.6422994 ],\n",
       "      dtype=float32)"
      ]
     },
     "execution_count": 319,
     "metadata": {},
     "output_type": "execute_result"
    }
   ],
   "source": [
    "ref_z_log_var = np.mean(z_log_var, axis=0)\n",
    "ref_z_log_var"
   ]
  },
  {
   "cell_type": "code",
   "execution_count": 48,
   "id": "4625cf13",
   "metadata": {},
   "outputs": [],
   "source": [
    "def generate_predictions(z_input, is_magnetic=True, is_ns=True, element_ohe_threshold=0.5):\n",
    "    \n",
    "    predict_batch_size=z_input.shape[0]\n",
    "    trues=np.ones(predict_batch_size)\n",
    "    falses=np.zeros(predict_batch_size)\n",
    "    # Generate new compositions by calling decoder part\n",
    "    pred_stab_magn=decoder.predict([\n",
    "                                    z_input,                                            \n",
    "                                    trues if is_magnetic else  falses,  # is magnetic                               \n",
    "                                    trues if is_ns else  falses,  # is stable                               \n",
    "                                   ],batch_size=128)\n",
    "\n",
    "    oheA_pred=pred_stab_magn[0]\n",
    "    oheB_pred=pred_stab_magn[1]\n",
    "\n",
    "    # Select only those elements, for which prob > element_ohe_threshold=0.5\n",
    "    oheA_pred_crop=(oheA_pred>element_ohe_threshold).astype(int)\n",
    "    oheB_pred_crop=(oheB_pred>element_ohe_threshold).astype(int)\n",
    "\n",
    "    goodA_mask = np.any(oheA_pred_crop==1,axis=1)\n",
    "    goodB_mask = np.any(oheB_pred_crop==1,axis=1)\n",
    "    good_mask = goodA_mask & goodB_mask\n",
    "    oheA_pred_correct=oheA_pred_crop[good_mask]\n",
    "    oheB_pred_correct=oheB_pred_crop[good_mask]\n",
    "\n",
    "    # inverse transform newly predicted A and B elements, converted it to elements name\n",
    "    # and wrap it into DataFrame\n",
    "    generated_df=pd.DataFrame(\n",
    "                {\n",
    "                    \"A\":ohe.inverse_transform(oheA_pred_correct).flatten(),\n",
    "                    \"B\":ohe.inverse_transform(oheB_pred_correct).flatten()\n",
    "                })\n",
    "\n",
    "    # generate unique A,B tuple column\n",
    "    generated_df[\"AB_tuple\"]=generated_df.apply(lambda r: (r[\"A\"],r[\"B\"]), axis=1)\n",
    "        \n",
    "    \n",
    "    # join newly generated compositions with GROUNDTRUTH `dataset`\n",
    "    mdf=pd.merge(generated_df,dataset,on=\"AB_tuple\", suffixes=(\"_gen\",\"_ref\"))\n",
    "    \n",
    "    return mdf"
   ]
  },
  {
   "cell_type": "code",
   "execution_count": null,
   "id": "ba4109ad",
   "metadata": {},
   "outputs": [],
   "source": []
  },
  {
   "cell_type": "code",
   "execution_count": 49,
   "id": "821f9aa1",
   "metadata": {},
   "outputs": [],
   "source": [
    "predict_batch_size=1000"
   ]
  },
  {
   "cell_type": "code",
   "execution_count": 50,
   "id": "2334f311",
   "metadata": {},
   "outputs": [],
   "source": [
    "np.random.seed(2)\n",
    "epsilon=np.random.randn(predict_batch_size,latent_dim)"
   ]
  },
  {
   "cell_type": "code",
   "execution_count": 51,
   "id": "18c0bbd8",
   "metadata": {},
   "outputs": [],
   "source": [
    "z_input = ref_zmean + np.exp(0.5 * ref_z_log_var) * epsilon"
   ]
  },
  {
   "cell_type": "code",
   "execution_count": 52,
   "id": "01d2c9d2",
   "metadata": {},
   "outputs": [],
   "source": [
    "mdf_non_magnetic=generate_predictions(z_input, is_magnetic=False, is_ns=True, element_ohe_threshold=0.5)\n",
    "mdf_magnetic=generate_predictions(z_input, is_magnetic=True, is_ns=True, element_ohe_threshold=0.5)"
   ]
  },
  {
   "cell_type": "code",
   "execution_count": 53,
   "id": "0549feb1",
   "metadata": {},
   "outputs": [
    {
     "data": {
      "text/plain": [
       "((971, 26), (961, 26))"
      ]
     },
     "execution_count": 53,
     "metadata": {},
     "output_type": "execute_result"
    }
   ],
   "source": [
    "mdf_non_magnetic.shape, mdf_magnetic.shape"
   ]
  },
  {
   "cell_type": "code",
   "execution_count": 54,
   "id": "022c3470",
   "metadata": {},
   "outputs": [],
   "source": [
    "mdf_non_magnetic.drop_duplicates(subset=[\"AB_tuple\"], inplace=True)\n",
    "mdf_magnetic.drop_duplicates(subset=[\"AB_tuple\"], inplace=True)"
   ]
  },
  {
   "cell_type": "code",
   "execution_count": 55,
   "id": "93730748",
   "metadata": {},
   "outputs": [
    {
     "data": {
      "text/plain": [
       "((294, 26), (215, 26))"
      ]
     },
     "execution_count": 55,
     "metadata": {},
     "output_type": "execute_result"
    }
   ],
   "source": [
    "mdf_non_magnetic.shape, mdf_magnetic.shape"
   ]
  },
  {
   "cell_type": "code",
   "execution_count": 56,
   "id": "adfd4347",
   "metadata": {},
   "outputs": [
    {
     "data": {
      "text/plain": [
       "(0.5259666413949962, 0.596095526914329)"
      ]
     },
     "execution_count": 56,
     "metadata": {},
     "output_type": "execute_result"
    }
   ],
   "source": [
    "dataset[\"is_magnetic\"].mean(),dataset[\"is_ns\"].mean()"
   ]
  },
  {
   "cell_type": "code",
   "execution_count": 57,
   "id": "62909f30",
   "metadata": {},
   "outputs": [
    {
     "data": {
      "text/plain": [
       "((294, 26), (215, 26))"
      ]
     },
     "execution_count": 57,
     "metadata": {},
     "output_type": "execute_result"
    }
   ],
   "source": [
    "mdf_non_magnetic.shape, mdf_magnetic.shape"
   ]
  },
  {
   "cell_type": "code",
   "execution_count": 58,
   "id": "4d228d90",
   "metadata": {},
   "outputs": [
    {
     "data": {
      "text/plain": [
       "(0.43537414965986393, 0.7687074829931972)"
      ]
     },
     "execution_count": 58,
     "metadata": {},
     "output_type": "execute_result"
    }
   ],
   "source": [
    "(mdf_non_magnetic[\"is_magnetic\"]).mean(),(mdf_non_magnetic[\"is_ns\"]).mean()"
   ]
  },
  {
   "cell_type": "code",
   "execution_count": 59,
   "id": "5130bbd3",
   "metadata": {},
   "outputs": [
    {
     "data": {
      "text/plain": [
       "(0.8232558139534883, 0.7581395348837209)"
      ]
     },
     "execution_count": 59,
     "metadata": {},
     "output_type": "execute_result"
    }
   ],
   "source": [
    "(mdf_magnetic[\"is_magnetic\"]).mean(),(mdf_magnetic[\"is_ns\"]).mean()"
   ]
  },
  {
   "cell_type": "code",
   "execution_count": 60,
   "id": "d92ce827",
   "metadata": {},
   "outputs": [],
   "source": [
    "new_non_magnetic=mdf_non_magnetic.loc[~mdf_non_magnetic[\"is_train\"]]\n",
    "new_magnetic=mdf_magnetic.loc[~mdf_magnetic[\"is_train\"]]"
   ]
  },
  {
   "cell_type": "code",
   "execution_count": 61,
   "id": "cf3c1785",
   "metadata": {},
   "outputs": [
    {
     "data": {
      "text/plain": [
       "((130, 26), (102, 26))"
      ]
     },
     "execution_count": 61,
     "metadata": {},
     "output_type": "execute_result"
    }
   ],
   "source": [
    "new_non_magnetic.shape, new_magnetic.shape"
   ]
  },
  {
   "cell_type": "code",
   "execution_count": 62,
   "id": "8868808f",
   "metadata": {},
   "outputs": [
    {
     "data": {
      "text/plain": [
       "(0.5195001893222264, 0.602423324498296)"
      ]
     },
     "execution_count": 62,
     "metadata": {},
     "output_type": "execute_result"
    }
   ],
   "source": [
    "ds_test[\"is_magnetic\"].mean(),ds_test[\"is_ns\"].mean()"
   ]
  },
  {
   "cell_type": "code",
   "execution_count": 63,
   "id": "5ea9590f",
   "metadata": {},
   "outputs": [
    {
     "data": {
      "text/plain": [
       "(0.5, 0.8076923076923077)"
      ]
     },
     "execution_count": 63,
     "metadata": {},
     "output_type": "execute_result"
    }
   ],
   "source": [
    "(new_non_magnetic[\"is_magnetic\"]).mean(),(new_non_magnetic[\"is_ns\"]).mean()"
   ]
  },
  {
   "cell_type": "code",
   "execution_count": 64,
   "id": "eb9a3af1",
   "metadata": {},
   "outputs": [
    {
     "data": {
      "text/plain": [
       "(0.8529411764705882, 0.7549019607843137)"
      ]
     },
     "execution_count": 64,
     "metadata": {},
     "output_type": "execute_result"
    }
   ],
   "source": [
    "(new_magnetic[\"is_magnetic\"]).mean(),(new_magnetic[\"is_ns\"]).mean()"
   ]
  },
  {
   "cell_type": "code",
   "execution_count": 65,
   "id": "949ea3a7",
   "metadata": {},
   "outputs": [
    {
     "data": {
      "text/plain": [
       "0.38461538461538464"
      ]
     },
     "execution_count": 65,
     "metadata": {},
     "output_type": "execute_result"
    }
   ],
   "source": [
    "((new_non_magnetic[\"is_ns\"]==True) & (new_non_magnetic[\"is_magnetic\"]==False)).mean()"
   ]
  },
  {
   "cell_type": "code",
   "execution_count": 66,
   "id": "db82f4cd",
   "metadata": {},
   "outputs": [
    {
     "data": {
      "text/plain": [
       "0.2741385838697463"
      ]
     },
     "execution_count": 66,
     "metadata": {},
     "output_type": "execute_result"
    }
   ],
   "source": [
    "((ds_test[\"is_ns\"]==True) & (ds_test[\"is_magnetic\"]==False)).mean()"
   ]
  },
  {
   "cell_type": "code",
   "execution_count": 67,
   "id": "83a41870",
   "metadata": {},
   "outputs": [
    {
     "data": {
      "text/plain": [
       "1       0.0\n",
       "2       0.0\n",
       "3       0.0\n",
       "7       0.0\n",
       "8       0.0\n",
       "       ... \n",
       "5315    1.0\n",
       "5317    1.0\n",
       "5318    1.0\n",
       "5321    1.0\n",
       "5326    0.0\n",
       "Name: is_ns, Length: 2635, dtype: float64"
      ]
     },
     "execution_count": 67,
     "metadata": {},
     "output_type": "execute_result"
    }
   ],
   "source": [
    "is_ns_train"
   ]
  },
  {
   "cell_type": "code",
   "execution_count": 68,
   "id": "b9a7defb",
   "metadata": {},
   "outputs": [
    {
     "data": {
      "text/plain": [
       "0.6666666666666666"
      ]
     },
     "execution_count": 68,
     "metadata": {},
     "output_type": "execute_result"
    }
   ],
   "source": [
    "((new_magnetic[\"is_ns\"]==True) & (new_magnetic[\"is_magnetic\"]==True)).mean()"
   ]
  },
  {
   "cell_type": "code",
   "execution_count": 69,
   "id": "93a11f48",
   "metadata": {},
   "outputs": [
    {
     "data": {
      "text/plain": [
       "0.3282847406285498"
      ]
     },
     "execution_count": 69,
     "metadata": {},
     "output_type": "execute_result"
    }
   ],
   "source": [
    "((ds_test[\"is_ns\"]==True) & (ds_test[\"is_magnetic\"]==True)).mean()"
   ]
  },
  {
   "cell_type": "code",
   "execution_count": 70,
   "id": "2fc7029c",
   "metadata": {},
   "outputs": [
    {
     "data": {
      "text/html": [
       "<div>\n",
       "<style scoped>\n",
       "    .dataframe tbody tr th:only-of-type {\n",
       "        vertical-align: middle;\n",
       "    }\n",
       "\n",
       "    .dataframe tbody tr th {\n",
       "        vertical-align: top;\n",
       "    }\n",
       "\n",
       "    .dataframe thead th {\n",
       "        text-align: right;\n",
       "    }\n",
       "</style>\n",
       "<table border=\"1\" class=\"dataframe\">\n",
       "  <thead>\n",
       "    <tr style=\"text-align: right;\">\n",
       "      <th></th>\n",
       "      <th>Chemical formula</th>\n",
       "      <th>A</th>\n",
       "      <th>B</th>\n",
       "      <th>In literature</th>\n",
       "      <th>Valence A</th>\n",
       "      <th>Valence B</th>\n",
       "      <th>Radius A [ang]</th>\n",
       "      <th>Radius B [ang]</th>\n",
       "      <th>Lowest distortion</th>\n",
       "      <th>Formation energy [eV/atom]</th>\n",
       "      <th>...</th>\n",
       "      <th>a [ang]</th>\n",
       "      <th>b [ang]</th>\n",
       "      <th>c [ang]</th>\n",
       "      <th>alpha [deg]</th>\n",
       "      <th>beta [deg]</th>\n",
       "      <th>gamma [deg]</th>\n",
       "      <th>is_magnetic</th>\n",
       "      <th>is_ns</th>\n",
       "      <th>AB_tuple</th>\n",
       "      <th>is_train</th>\n",
       "    </tr>\n",
       "  </thead>\n",
       "  <tbody>\n",
       "    <tr>\n",
       "      <th>0</th>\n",
       "      <td>Ac2O3</td>\n",
       "      <td>Ac</td>\n",
       "      <td>Ac</td>\n",
       "      <td>False</td>\n",
       "      <td>element not in BV</td>\n",
       "      <td>element not in BV</td>\n",
       "      <td>1.12</td>\n",
       "      <td>1.12</td>\n",
       "      <td>cubic</td>\n",
       "      <td>-2.732</td>\n",
       "      <td>...</td>\n",
       "      <td>4.705</td>\n",
       "      <td>4.705</td>\n",
       "      <td>4.705</td>\n",
       "      <td>90.0</td>\n",
       "      <td>90.0</td>\n",
       "      <td>90.0</td>\n",
       "      <td>False</td>\n",
       "      <td>True</td>\n",
       "      <td>(Ac, Ac)</td>\n",
       "      <td>False</td>\n",
       "    </tr>\n",
       "    <tr>\n",
       "      <th>4</th>\n",
       "      <td>AcAuO3</td>\n",
       "      <td>Ac</td>\n",
       "      <td>Au</td>\n",
       "      <td>False</td>\n",
       "      <td>element not in BV</td>\n",
       "      <td>element not in BV</td>\n",
       "      <td>1.12</td>\n",
       "      <td>0.93</td>\n",
       "      <td>orthorhombic</td>\n",
       "      <td>-2.006</td>\n",
       "      <td>...</td>\n",
       "      <td>5.899</td>\n",
       "      <td>6.750</td>\n",
       "      <td>7.630</td>\n",
       "      <td>90.0</td>\n",
       "      <td>90.0</td>\n",
       "      <td>90.0</td>\n",
       "      <td>False</td>\n",
       "      <td>False</td>\n",
       "      <td>(Ac, Au)</td>\n",
       "      <td>False</td>\n",
       "    </tr>\n",
       "    <tr>\n",
       "      <th>5</th>\n",
       "      <td>AcBO3</td>\n",
       "      <td>Ac</td>\n",
       "      <td>B</td>\n",
       "      <td>False</td>\n",
       "      <td>element not in BV</td>\n",
       "      <td>element not in BV</td>\n",
       "      <td>1.12</td>\n",
       "      <td>0.27</td>\n",
       "      <td>cubic</td>\n",
       "      <td>-2.316</td>\n",
       "      <td>...</td>\n",
       "      <td>3.693</td>\n",
       "      <td>3.693</td>\n",
       "      <td>3.693</td>\n",
       "      <td>90.0</td>\n",
       "      <td>90.0</td>\n",
       "      <td>90.0</td>\n",
       "      <td>False</td>\n",
       "      <td>True</td>\n",
       "      <td>(Ac, B)</td>\n",
       "      <td>False</td>\n",
       "    </tr>\n",
       "    <tr>\n",
       "      <th>6</th>\n",
       "      <td>AcBaO3</td>\n",
       "      <td>Ac</td>\n",
       "      <td>Ba</td>\n",
       "      <td>False</td>\n",
       "      <td>element not in BV</td>\n",
       "      <td>element not in BV</td>\n",
       "      <td>1.12</td>\n",
       "      <td>1.35</td>\n",
       "      <td>orthorhombic</td>\n",
       "      <td>-2.741</td>\n",
       "      <td>...</td>\n",
       "      <td>6.315</td>\n",
       "      <td>6.356</td>\n",
       "      <td>10.436</td>\n",
       "      <td>90.0</td>\n",
       "      <td>90.0</td>\n",
       "      <td>90.0</td>\n",
       "      <td>True</td>\n",
       "      <td>False</td>\n",
       "      <td>(Ac, Ba)</td>\n",
       "      <td>False</td>\n",
       "    </tr>\n",
       "    <tr>\n",
       "      <th>10</th>\n",
       "      <td>AcCdO3</td>\n",
       "      <td>Ac</td>\n",
       "      <td>Cd</td>\n",
       "      <td>False</td>\n",
       "      <td>element not in BV</td>\n",
       "      <td>element not in BV</td>\n",
       "      <td>1.12</td>\n",
       "      <td>0.95</td>\n",
       "      <td>orthorhombic</td>\n",
       "      <td>-2.224</td>\n",
       "      <td>...</td>\n",
       "      <td>5.840</td>\n",
       "      <td>6.199</td>\n",
       "      <td>8.338</td>\n",
       "      <td>90.0</td>\n",
       "      <td>90.0</td>\n",
       "      <td>90.0</td>\n",
       "      <td>False</td>\n",
       "      <td>False</td>\n",
       "      <td>(Ac, Cd)</td>\n",
       "      <td>False</td>\n",
       "    </tr>\n",
       "    <tr>\n",
       "      <th>...</th>\n",
       "      <td>...</td>\n",
       "      <td>...</td>\n",
       "      <td>...</td>\n",
       "      <td>...</td>\n",
       "      <td>...</td>\n",
       "      <td>...</td>\n",
       "      <td>...</td>\n",
       "      <td>...</td>\n",
       "      <td>...</td>\n",
       "      <td>...</td>\n",
       "      <td>...</td>\n",
       "      <td>...</td>\n",
       "      <td>...</td>\n",
       "      <td>...</td>\n",
       "      <td>...</td>\n",
       "      <td>...</td>\n",
       "      <td>...</td>\n",
       "      <td>...</td>\n",
       "      <td>...</td>\n",
       "      <td>...</td>\n",
       "      <td>...</td>\n",
       "    </tr>\n",
       "    <tr>\n",
       "      <th>5323</th>\n",
       "      <td>ZrVO3</td>\n",
       "      <td>Zr</td>\n",
       "      <td>V</td>\n",
       "      <td>False</td>\n",
       "      <td>1</td>\n",
       "      <td>5</td>\n",
       "      <td>0.89</td>\n",
       "      <td>0.54</td>\n",
       "      <td>cubic</td>\n",
       "      <td>-2.208</td>\n",
       "      <td>...</td>\n",
       "      <td>3.814</td>\n",
       "      <td>3.814</td>\n",
       "      <td>3.814</td>\n",
       "      <td>90.0</td>\n",
       "      <td>90.0</td>\n",
       "      <td>90.0</td>\n",
       "      <td>True</td>\n",
       "      <td>True</td>\n",
       "      <td>(Zr, V)</td>\n",
       "      <td>False</td>\n",
       "    </tr>\n",
       "    <tr>\n",
       "      <th>5324</th>\n",
       "      <td>ZrWO3</td>\n",
       "      <td>Zr</td>\n",
       "      <td>W</td>\n",
       "      <td>False</td>\n",
       "      <td>1</td>\n",
       "      <td>5</td>\n",
       "      <td>0.89</td>\n",
       "      <td>0.62</td>\n",
       "      <td>cubic</td>\n",
       "      <td>-1.637</td>\n",
       "      <td>...</td>\n",
       "      <td>3.936</td>\n",
       "      <td>3.936</td>\n",
       "      <td>3.936</td>\n",
       "      <td>90.0</td>\n",
       "      <td>90.0</td>\n",
       "      <td>90.0</td>\n",
       "      <td>True</td>\n",
       "      <td>True</td>\n",
       "      <td>(Zr, W)</td>\n",
       "      <td>False</td>\n",
       "    </tr>\n",
       "    <tr>\n",
       "      <th>5325</th>\n",
       "      <td>ZrYO3</td>\n",
       "      <td>Zr</td>\n",
       "      <td>Y</td>\n",
       "      <td>False</td>\n",
       "      <td>not balanced</td>\n",
       "      <td>not balanced</td>\n",
       "      <td>0.89</td>\n",
       "      <td>0.90</td>\n",
       "      <td>cubic</td>\n",
       "      <td>-2.126</td>\n",
       "      <td>...</td>\n",
       "      <td>4.243</td>\n",
       "      <td>4.243</td>\n",
       "      <td>4.243</td>\n",
       "      <td>90.0</td>\n",
       "      <td>90.0</td>\n",
       "      <td>90.0</td>\n",
       "      <td>True</td>\n",
       "      <td>True</td>\n",
       "      <td>(Zr, Y)</td>\n",
       "      <td>False</td>\n",
       "    </tr>\n",
       "    <tr>\n",
       "      <th>5327</th>\n",
       "      <td>ZrZnO3</td>\n",
       "      <td>Zr</td>\n",
       "      <td>Zn</td>\n",
       "      <td>False</td>\n",
       "      <td>not balanced</td>\n",
       "      <td>not balanced</td>\n",
       "      <td>0.89</td>\n",
       "      <td>0.74</td>\n",
       "      <td>cubic</td>\n",
       "      <td>-1.630</td>\n",
       "      <td>...</td>\n",
       "      <td>3.780</td>\n",
       "      <td>3.780</td>\n",
       "      <td>3.780</td>\n",
       "      <td>90.0</td>\n",
       "      <td>90.0</td>\n",
       "      <td>90.0</td>\n",
       "      <td>False</td>\n",
       "      <td>True</td>\n",
       "      <td>(Zr, Zn)</td>\n",
       "      <td>False</td>\n",
       "    </tr>\n",
       "    <tr>\n",
       "      <th>5328</th>\n",
       "      <td>Zr2O3</td>\n",
       "      <td>Zr</td>\n",
       "      <td>Zr</td>\n",
       "      <td>False</td>\n",
       "      <td>not balanced</td>\n",
       "      <td>not balanced</td>\n",
       "      <td>0.89</td>\n",
       "      <td>0.72</td>\n",
       "      <td>cubic</td>\n",
       "      <td>-2.382</td>\n",
       "      <td>...</td>\n",
       "      <td>4.113</td>\n",
       "      <td>4.113</td>\n",
       "      <td>4.113</td>\n",
       "      <td>90.0</td>\n",
       "      <td>90.0</td>\n",
       "      <td>90.0</td>\n",
       "      <td>True</td>\n",
       "      <td>True</td>\n",
       "      <td>(Zr, Zr)</td>\n",
       "      <td>False</td>\n",
       "    </tr>\n",
       "  </tbody>\n",
       "</table>\n",
       "<p>2641 rows × 24 columns</p>\n",
       "</div>"
      ],
      "text/plain": [
       "     Chemical formula   A   B  In literature          Valence A  \\\n",
       "0               Ac2O3  Ac  Ac          False  element not in BV   \n",
       "4              AcAuO3  Ac  Au          False  element not in BV   \n",
       "5               AcBO3  Ac   B          False  element not in BV   \n",
       "6              AcBaO3  Ac  Ba          False  element not in BV   \n",
       "10             AcCdO3  Ac  Cd          False  element not in BV   \n",
       "...               ...  ..  ..            ...                ...   \n",
       "5323            ZrVO3  Zr   V          False                  1   \n",
       "5324            ZrWO3  Zr   W          False                  1   \n",
       "5325            ZrYO3  Zr   Y          False       not balanced   \n",
       "5327           ZrZnO3  Zr  Zn          False       not balanced   \n",
       "5328            Zr2O3  Zr  Zr          False       not balanced   \n",
       "\n",
       "              Valence B  Radius A [ang]  Radius B [ang] Lowest distortion  \\\n",
       "0     element not in BV            1.12            1.12             cubic   \n",
       "4     element not in BV            1.12            0.93      orthorhombic   \n",
       "5     element not in BV            1.12            0.27             cubic   \n",
       "6     element not in BV            1.12            1.35      orthorhombic   \n",
       "10    element not in BV            1.12            0.95      orthorhombic   \n",
       "...                 ...             ...             ...               ...   \n",
       "5323                  5            0.89            0.54             cubic   \n",
       "5324                  5            0.89            0.62             cubic   \n",
       "5325       not balanced            0.89            0.90             cubic   \n",
       "5327       not balanced            0.89            0.74             cubic   \n",
       "5328       not balanced            0.89            0.72             cubic   \n",
       "\n",
       "      Formation energy [eV/atom]  ...  a [ang]  b [ang]  c [ang] alpha [deg]  \\\n",
       "0                         -2.732  ...    4.705    4.705    4.705        90.0   \n",
       "4                         -2.006  ...    5.899    6.750    7.630        90.0   \n",
       "5                         -2.316  ...    3.693    3.693    3.693        90.0   \n",
       "6                         -2.741  ...    6.315    6.356   10.436        90.0   \n",
       "10                        -2.224  ...    5.840    6.199    8.338        90.0   \n",
       "...                          ...  ...      ...      ...      ...         ...   \n",
       "5323                      -2.208  ...    3.814    3.814    3.814        90.0   \n",
       "5324                      -1.637  ...    3.936    3.936    3.936        90.0   \n",
       "5325                      -2.126  ...    4.243    4.243    4.243        90.0   \n",
       "5327                      -1.630  ...    3.780    3.780    3.780        90.0   \n",
       "5328                      -2.382  ...    4.113    4.113    4.113        90.0   \n",
       "\n",
       "     beta [deg] gamma [deg] is_magnetic  is_ns  AB_tuple is_train  \n",
       "0          90.0        90.0       False   True  (Ac, Ac)    False  \n",
       "4          90.0        90.0       False  False  (Ac, Au)    False  \n",
       "5          90.0        90.0       False   True   (Ac, B)    False  \n",
       "6          90.0        90.0        True  False  (Ac, Ba)    False  \n",
       "10         90.0        90.0       False  False  (Ac, Cd)    False  \n",
       "...         ...         ...         ...    ...       ...      ...  \n",
       "5323       90.0        90.0        True   True   (Zr, V)    False  \n",
       "5324       90.0        90.0        True   True   (Zr, W)    False  \n",
       "5325       90.0        90.0        True   True   (Zr, Y)    False  \n",
       "5327       90.0        90.0       False   True  (Zr, Zn)    False  \n",
       "5328       90.0        90.0        True   True  (Zr, Zr)    False  \n",
       "\n",
       "[2641 rows x 24 columns]"
      ]
     },
     "execution_count": 70,
     "metadata": {},
     "output_type": "execute_result"
    }
   ],
   "source": [
    "ds_test"
   ]
  },
  {
   "cell_type": "code",
   "execution_count": 71,
   "id": "a7206cb4",
   "metadata": {},
   "outputs": [
    {
     "name": "stdout",
     "output_type": "stream",
     "text": [
      "(5276, 146) [1 0 0 ... 0 1 1]\n",
      "linear Accuracy on Validation Set: 0.7443181818181818\n",
      "randome Accuracy on Test Set: 0.7471590909090909\n",
      "GaussianNB Accuracy: 0.6931818181818182\n",
      "Epoch 1/45\n",
      "132/132 [==============================] - 1s 7ms/step - loss: 0.6576 - accuracy: 0.5993 - val_loss: 0.6113 - val_accuracy: 0.6536\n",
      "Epoch 2/45\n",
      "132/132 [==============================] - 1s 4ms/step - loss: 0.5504 - accuracy: 0.7246 - val_loss: 0.4846 - val_accuracy: 0.7716\n",
      "Epoch 3/45\n",
      "132/132 [==============================] - 1s 5ms/step - loss: 0.4837 - accuracy: 0.7680 - val_loss: 0.4523 - val_accuracy: 0.7867\n",
      "Epoch 4/45\n",
      "132/132 [==============================] - 1s 7ms/step - loss: 0.4537 - accuracy: 0.7863 - val_loss: 0.4245 - val_accuracy: 0.7998\n",
      "Epoch 5/45\n",
      "132/132 [==============================] - 1s 6ms/step - loss: 0.4276 - accuracy: 0.7962 - val_loss: 0.3958 - val_accuracy: 0.8194\n",
      "Epoch 6/45\n",
      "132/132 [==============================] - 1s 5ms/step - loss: 0.3959 - accuracy: 0.8164 - val_loss: 0.3577 - val_accuracy: 0.8469\n",
      "Epoch 7/45\n",
      "132/132 [==============================] - 1s 7ms/step - loss: 0.3539 - accuracy: 0.8429 - val_loss: 0.3068 - val_accuracy: 0.8768\n",
      "Epoch 8/45\n",
      "132/132 [==============================] - 1s 5ms/step - loss: 0.2990 - accuracy: 0.8763 - val_loss: 0.2472 - val_accuracy: 0.9130\n",
      "Epoch 9/45\n",
      "132/132 [==============================] - 1s 5ms/step - loss: 0.2442 - accuracy: 0.9040 - val_loss: 0.1989 - val_accuracy: 0.9336\n",
      "Epoch 10/45\n",
      "132/132 [==============================] - 1s 7ms/step - loss: 0.1980 - accuracy: 0.9291 - val_loss: 0.1584 - val_accuracy: 0.9552\n",
      "Epoch 11/45\n",
      "132/132 [==============================] - 1s 4ms/step - loss: 0.1588 - accuracy: 0.9486 - val_loss: 0.1262 - val_accuracy: 0.9678\n",
      "Epoch 12/45\n",
      "132/132 [==============================] - 1s 6ms/step - loss: 0.1293 - accuracy: 0.9590 - val_loss: 0.1040 - val_accuracy: 0.9732\n",
      "Epoch 13/45\n",
      "132/132 [==============================] - 1s 6ms/step - loss: 0.1040 - accuracy: 0.9701 - val_loss: 0.0802 - val_accuracy: 0.9841\n",
      "Epoch 14/45\n",
      "132/132 [==============================] - 1s 4ms/step - loss: 0.0846 - accuracy: 0.9784 - val_loss: 0.0632 - val_accuracy: 0.9910\n",
      "Epoch 15/45\n",
      "132/132 [==============================] - 1s 6ms/step - loss: 0.0665 - accuracy: 0.9860 - val_loss: 0.0526 - val_accuracy: 0.9938\n",
      "Epoch 16/45\n",
      "132/132 [==============================] - 1s 7ms/step - loss: 0.0526 - accuracy: 0.9927 - val_loss: 0.0385 - val_accuracy: 0.9955\n",
      "Epoch 17/45\n",
      "132/132 [==============================] - 1s 6ms/step - loss: 0.0413 - accuracy: 0.9943 - val_loss: 0.0302 - val_accuracy: 0.9974\n",
      "Epoch 18/45\n",
      "132/132 [==============================] - 1s 8ms/step - loss: 0.0319 - accuracy: 0.9955 - val_loss: 0.0230 - val_accuracy: 0.9986\n",
      "Epoch 19/45\n",
      "132/132 [==============================] - 1s 5ms/step - loss: 0.0244 - accuracy: 0.9979 - val_loss: 0.0192 - val_accuracy: 0.9988\n",
      "Epoch 20/45\n",
      "132/132 [==============================] - 1s 6ms/step - loss: 0.0195 - accuracy: 0.9986 - val_loss: 0.0142 - val_accuracy: 0.9998\n",
      "Epoch 21/45\n",
      "132/132 [==============================] - 1s 6ms/step - loss: 0.0150 - accuracy: 0.9991 - val_loss: 0.0111 - val_accuracy: 0.9998\n",
      "Epoch 22/45\n",
      "132/132 [==============================] - 1s 7ms/step - loss: 0.0117 - accuracy: 0.9995 - val_loss: 0.0088 - val_accuracy: 1.0000\n",
      "Epoch 23/45\n",
      "132/132 [==============================] - 1s 4ms/step - loss: 0.0094 - accuracy: 1.0000 - val_loss: 0.0070 - val_accuracy: 1.0000\n",
      "Epoch 24/45\n",
      "132/132 [==============================] - 1s 6ms/step - loss: 0.0074 - accuracy: 1.0000 - val_loss: 0.0058 - val_accuracy: 1.0000\n",
      "Epoch 25/45\n",
      "132/132 [==============================] - 1s 4ms/step - loss: 0.0061 - accuracy: 1.0000 - val_loss: 0.0047 - val_accuracy: 1.0000\n",
      "Epoch 26/45\n",
      "132/132 [==============================] - 1s 5ms/step - loss: 0.0049 - accuracy: 1.0000 - val_loss: 0.0040 - val_accuracy: 1.0000\n",
      "Epoch 27/45\n",
      "132/132 [==============================] - 1s 7ms/step - loss: 0.0042 - accuracy: 1.0000 - val_loss: 0.0034 - val_accuracy: 1.0000\n",
      "Epoch 28/45\n",
      "132/132 [==============================] - 1s 4ms/step - loss: 0.0034 - accuracy: 1.0000 - val_loss: 0.0028 - val_accuracy: 1.0000\n",
      "Epoch 29/45\n",
      "132/132 [==============================] - 1s 5ms/step - loss: 0.0030 - accuracy: 1.0000 - val_loss: 0.0024 - val_accuracy: 1.0000\n",
      "Epoch 30/45\n",
      "132/132 [==============================] - 1s 7ms/step - loss: 0.0025 - accuracy: 1.0000 - val_loss: 0.0021 - val_accuracy: 1.0000\n",
      "Epoch 31/45\n",
      "132/132 [==============================] - 1s 6ms/step - loss: 0.0022 - accuracy: 1.0000 - val_loss: 0.0018 - val_accuracy: 1.0000\n",
      "Epoch 32/45\n",
      "132/132 [==============================] - 1s 5ms/step - loss: 0.0019 - accuracy: 1.0000 - val_loss: 0.0016 - val_accuracy: 1.0000\n",
      "Epoch 33/45\n",
      "132/132 [==============================] - 1s 6ms/step - loss: 0.0017 - accuracy: 1.0000 - val_loss: 0.0014 - val_accuracy: 1.0000\n",
      "Epoch 34/45\n",
      "132/132 [==============================] - 1s 5ms/step - loss: 0.0015 - accuracy: 1.0000 - val_loss: 0.0012 - val_accuracy: 1.0000\n",
      "Epoch 35/45\n",
      "132/132 [==============================] - 1s 5ms/step - loss: 0.0013 - accuracy: 1.0000 - val_loss: 0.0011 - val_accuracy: 1.0000\n",
      "Epoch 36/45\n",
      "132/132 [==============================] - 1s 6ms/step - loss: 0.0011 - accuracy: 1.0000 - val_loss: 9.7392e-04 - val_accuracy: 1.0000\n",
      "Epoch 37/45\n",
      "132/132 [==============================] - 1s 6ms/step - loss: 0.0010 - accuracy: 1.0000 - val_loss: 8.6289e-04 - val_accuracy: 1.0000\n",
      "Epoch 38/45\n",
      "132/132 [==============================] - 1s 5ms/step - loss: 8.9872e-04 - accuracy: 1.0000 - val_loss: 7.7073e-04 - val_accuracy: 1.0000\n",
      "Epoch 39/45\n",
      "132/132 [==============================] - 1s 7ms/step - loss: 8.0464e-04 - accuracy: 1.0000 - val_loss: 7.0431e-04 - val_accuracy: 1.0000\n",
      "Epoch 40/45\n",
      "132/132 [==============================] - 1s 5ms/step - loss: 7.1970e-04 - accuracy: 1.0000 - val_loss: 6.4314e-04 - val_accuracy: 1.0000\n",
      "Epoch 41/45\n",
      "132/132 [==============================] - 1s 6ms/step - loss: 6.5000e-04 - accuracy: 1.0000 - val_loss: 5.5820e-04 - val_accuracy: 1.0000\n",
      "Epoch 42/45\n",
      "132/132 [==============================] - 1s 6ms/step - loss: 5.8071e-04 - accuracy: 1.0000 - val_loss: 5.1102e-04 - val_accuracy: 1.0000\n",
      "Epoch 43/45\n",
      "132/132 [==============================] - 1s 5ms/step - loss: 5.2920e-04 - accuracy: 1.0000 - val_loss: 4.6216e-04 - val_accuracy: 1.0000\n",
      "Epoch 44/45\n",
      "132/132 [==============================] - 1s 7ms/step - loss: 4.7561e-04 - accuracy: 1.0000 - val_loss: 4.1166e-04 - val_accuracy: 1.0000\n",
      "Epoch 45/45\n",
      "132/132 [==============================] - 1s 5ms/step - loss: 4.2872e-04 - accuracy: 1.0000 - val_loss: 3.7668e-04 - val_accuracy: 1.0000\n",
      "33/33 [==============================] - 0s 2ms/step - loss: 0.6223 - accuracy: 0.8712\n",
      "NN --> Accuracy on Test Set: 0.8712121248245239\n"
     ]
    }
   ],
   "source": [
    "\n",
    "\n",
    "\n",
    "\n",
    "\n",
    "def calculate_fractions(labels):\n",
    "    fraction_stable = np.mean(labels == 1)\n",
    "    fraction_non_stable = 1 - fraction_stable\n",
    "    return fraction_stable, fraction_non_stable\n",
    "\n",
    "from sklearn.linear_model import LogisticRegression\n",
    "from sklearn.preprocessing import OneHotEncoder\n",
    "from sklearn.model_selection import train_test_split\n",
    "from sklearn.metrics import accuracy_score\n",
    "\n",
    "# dataset with columns 'A' and 'B' and a target column 'is_ns'\n",
    "# one-hot encode 'A' and 'B'\n",
    "\n",
    "XA=ohe.transform(dataset[\"A\"].values.reshape(-1,1)).toarray()\n",
    "XB=ohe.transform(dataset[\"B\"].values.reshape(-1,1)).toarray()\n",
    "X = np.hstack((XA, XB))\n",
    "\n",
    "\n",
    "# target variable\n",
    "y = dataset['is_ns']\n",
    "y_numeric = np.array(y, dtype=int)\n",
    "\n",
    "print(X.shape,y_numeric)\n",
    "# Split the data : training and testing sets\n",
    "X_train, X_test, y_train, y_test = train_test_split(X, y, test_size=0.2, random_state=42)\n",
    "\n",
    "# logistic regression model\n",
    "binary_classifier = LogisticRegression()\n",
    "binary_classifier.fit(X_train, y_train)\n",
    "\n",
    "# Evaluate the model on the test set\n",
    "y_pred = binary_classifier.predict(X_test)\n",
    "accuracy = accuracy_score(y_test, y_pred)\n",
    "print(f'linear Accuracy on Validation Set: {accuracy}')\n",
    "\n",
    "from sklearn.ensemble import RandomForestClassifier\n",
    "from sklearn.metrics import accuracy_score\n",
    "\n",
    "#--------------------------------------------------\n",
    "#--------------------------------------------------\n",
    "\n",
    "\n",
    "# Random Forest Classifier\n",
    "rf_classifier = RandomForestClassifier(n_estimators=100, random_state=42)\n",
    "\n",
    "rf_classifier.fit(X_train, y_train)\n",
    "\n",
    "y_pred = rf_classifier.predict(X_test)\n",
    "\n",
    "accuracy = accuracy_score(y_test, y_pred)\n",
    "print(f'randome Accuracy on Test Set: {accuracy}')\n",
    "\n",
    "#--------------------------------------------------\n",
    "#--------------------------------------------------\n",
    "\n",
    "from sklearn.naive_bayes import GaussianNB\n",
    "from sklearn.model_selection import train_test_split\n",
    "from sklearn.metrics import accuracy_score\n",
    "\n",
    "# features in X and labels in y\n",
    "X_train, X_test, y_train, y_test = train_test_split(X, y, test_size=0.2, random_state=42)\n",
    "\n",
    "# matrix to dense array\n",
    "\n",
    "\n",
    "# Gaussian Naive Bayes classifier\n",
    "nb_classifier = GaussianNB()\n",
    "\n",
    "nb_classifier.fit(X_train, y_train)\n",
    "\n",
    "y_pred = nb_classifier.predict(X_test)\n",
    "\n",
    "accuracy = accuracy_score(y_test, y_pred)\n",
    "print(f'GaussianNB Accuracy: {accuracy}')\n",
    "\n",
    "#--------------------------------------------------\n",
    "#--------------------------------------------------\n",
    "\n",
    "#Nural network\n",
    "\n",
    "import tensorflow as tf\n",
    "from tensorflow.keras.models import Sequential\n",
    "from tensorflow.keras.layers import Dense\n",
    "\n",
    "X_train, X_test, y_train, y_test = train_test_split(X, y_numeric, test_size=0.2, random_state=42)\n",
    "\n",
    "model = Sequential([\n",
    "    Dense(64, activation='relu', input_shape=(X.shape[1],)),  # First hidden layer with 64 units and ReLU activation\n",
    "    Dense(32, activation='relu'),  # Second hidden layer with 32 units and ReLU activation\n",
    "    Dense(1, activation='sigmoid')  # Output layer \n",
    "])\n",
    "\n",
    "model.compile(optimizer='adam', \n",
    "              loss='binary_crossentropy',  \n",
    "              metrics=['accuracy'])  \n",
    "\n",
    "model.fit(X_train, y_train, epochs=45, batch_size=32, validation_data=(X_train, y_train))\n",
    "\n",
    "loss, accuracy = model.evaluate(X_test, y_test)\n",
    "print(f'NN --> Accuracy on Test Set: {accuracy}')\n",
    "\n"
   ]
  },
  {
   "cell_type": "code",
   "execution_count": 72,
   "id": "1ab5ba72",
   "metadata": {},
   "outputs": [
    {
     "data": {
      "text/plain": [
       "OneHotEncoder()"
      ]
     },
     "execution_count": 72,
     "metadata": {},
     "output_type": "execute_result"
    }
   ],
   "source": [
    "def apply_binary_classifier(df,model, ohe):\n",
    "    # Flatten one-hot encoded labels for A and B\n",
    "    oheA_labels = ohe.transform(df[\"A_gen\"].values.reshape(-1, 1)).toarray()\n",
    "    oheB_labels = ohe.transform(df[\"B_gen\"].values.reshape(-1, 1)).toarray()\n",
    "    #one-hot encoded labels for A and B\n",
    "\n",
    "    ohe_labels_combined = np.hstack((oheA_labels, oheB_labels))\n",
    "    \n",
    "    # Predict is_ns probabilities\n",
    "    is_ns_probs = model.predict_proba(ohe_labels_combined)\n",
    "\n",
    "    # Filter compositions with predicted probability > 0.5\n",
    "    filtered_df = df[is_ns_probs > 0.5]\n",
    "\n",
    "    return filtered_df\n",
    "ohe"
   ]
  },
  {
   "cell_type": "code",
   "execution_count": 73,
   "id": "4c1daef7",
   "metadata": {},
   "outputs": [
    {
     "data": {
      "text/plain": [
       "(2635, 73)"
      ]
     },
     "execution_count": 73,
     "metadata": {},
     "output_type": "execute_result"
    }
   ],
   "source": [
    "fraction_stable_actual, fraction_non_stable_actual = calculate_fractions(is_ns_test)\n",
    "fraction_magnetic_actual, fraction_non_magnetic_actual = calculate_fractions(is_magnetic_test)\n",
    "mdf_magnetic\n",
    "ohe_labels_combined=ohe.transform(ds_train[\"A\"].values.reshape(-1,1)).toarray()\n",
    "ohe_labels_combined.shape"
   ]
  },
  {
   "cell_type": "code",
   "execution_count": 74,
   "id": "8af83c57",
   "metadata": {
    "scrolled": true
   },
   "outputs": [
    {
     "name": "stdout",
     "output_type": "stream",
     "text": [
      "WARNING:tensorflow:From /tmp/ipykernel_2646/1239037282.py:10: Sequential.predict_proba (from tensorflow.python.keras.engine.sequential) is deprecated and will be removed after 2021-01-01.\n",
      "Instructions for updating:\n",
      "Please use `model.predict()` instead.\n"
     ]
    }
   ],
   "source": [
    "\n",
    "filtered_non_magnetic = apply_binary_classifier(mdf_non_magnetic,model,ohe)\n",
    "filtered_magnetic = apply_binary_classifier(mdf_magnetic,model, ohe)\n"
   ]
  },
  {
   "cell_type": "code",
   "execution_count": 75,
   "id": "6bdd842b",
   "metadata": {},
   "outputs": [],
   "source": [
    "fraction_stable_filtered_non_magnetic, fraction_non_stable_filtered_non_magnetic = calculate_fractions(filtered_non_magnetic[\"is_ns\"])\n",
    "fraction_stable_filtered_magnetic, fraction_non_stable_filtered_magnetic = calculate_fractions(filtered_magnetic[\"is_ns\"])\n",
    "fraction_stable_in_class_non_magnetic, fraction_non_stable_in_class_non_magnetic = calculate_fractions(new_non_magnetic[\"is_ns\"])\n",
    "fraction_stable_in_class_magnetic, fraction_non_stable_in_class_magnetic = calculate_fractions(new_magnetic[\"is_ns\"])"
   ]
  },
  {
   "cell_type": "code",
   "execution_count": 76,
   "id": "1f5abb8b",
   "metadata": {},
   "outputs": [],
   "source": [
    "import numpy as np\n",
    "\n",
    "total_samples = len(is_ns_test)\n",
    "\n",
    "#  size of the randomly selected subset\n",
    "subset_size = 1000\n",
    "\n",
    "random_indices = np.random.choice(total_samples, size=subset_size, replace=False)\n",
    "\n",
    "random_labels = is_ns_test.iloc[random_indices]\n",
    "\n",
    "fraction_stable_random = (random_labels == 1).mean()\n",
    "fraction_non_stable_random = (random_labels == 0).mean()"
   ]
  },
  {
   "cell_type": "markdown",
   "id": "ce8afaf9",
   "metadata": {},
   "source": [
    "### fractions"
   ]
  },
  {
   "cell_type": "code",
   "execution_count": 77,
   "id": "5a471626",
   "metadata": {},
   "outputs": [
    {
     "name": "stdout",
     "output_type": "stream",
     "text": [
      "Actual Fractions:\n",
      "Fraction of Stable Samples: 0.602423324498296\n",
      "Fraction of Non-Stable Samples: 0.39757667550170395\n",
      "Fraction of Magnetic Samples: 0.5195001893222264\n",
      "Fraction of Non-Magnetic Samples: 0.4804998106777736\n",
      "\n",
      "Generated Samples from cVAE:\n",
      "Fraction of Stable Samples (Non-Magnetic): 0.9781659388646288\n",
      "Fraction of Non-Stable Samples (Non-Magnetic): 0.02183406113537123\n",
      "Fraction of Stable Samples (Magnetic): 0.9702380952380952\n",
      "Fraction of Non-Stable Samples (Magnetic): 0.029761904761904767\n",
      "\n",
      "In-Class Model Generated Samples:\n",
      "Fraction of Stable Samples (Non-Magnetic): 0.8076923076923077\n",
      "Fraction of Non-Stable Samples (Non-Magnetic): 0.1923076923076923\n",
      "Fraction of Stable Samples (Magnetic): 0.7549019607843137\n",
      "Fraction of Non-Stable Samples (Magnetic): 0.2450980392156863\n",
      "\n",
      "Randomly Selected Samples from Test Set:\n",
      "Fraction of Stable Samples: 0.593\n",
      "Fraction of Non-Stable Samples: 0.407\n"
     ]
    }
   ],
   "source": [
    "\n",
    "#  fractions\n",
    "print(\"Actual Fractions:\")\n",
    "print(f\"Fraction of Stable Samples: {fraction_stable_actual}\")\n",
    "print(f\"Fraction of Non-Stable Samples: {fraction_non_stable_actual}\")\n",
    "print(f\"Fraction of Magnetic Samples: {fraction_magnetic_actual}\")\n",
    "print(f\"Fraction of Non-Magnetic Samples: {fraction_non_magnetic_actual}\\n\")\n",
    "\n",
    "print(\"Generated Samples from cVAE:\")\n",
    "print(f\"Fraction of Stable Samples (Non-Magnetic): {fraction_stable_filtered_non_magnetic}\")\n",
    "print(f\"Fraction of Non-Stable Samples (Non-Magnetic): {fraction_non_stable_filtered_non_magnetic}\")\n",
    "print(f\"Fraction of Stable Samples (Magnetic): {fraction_stable_filtered_magnetic}\")\n",
    "print(f\"Fraction of Non-Stable Samples (Magnetic): {fraction_non_stable_filtered_magnetic}\\n\")\n",
    "\n",
    "print(\"In-Class Model Generated Samples:\")\n",
    "print(f\"Fraction of Stable Samples (Non-Magnetic): {fraction_stable_in_class_non_magnetic}\")\n",
    "print(f\"Fraction of Non-Stable Samples (Non-Magnetic): {fraction_non_stable_in_class_non_magnetic}\")\n",
    "print(f\"Fraction of Stable Samples (Magnetic): {fraction_stable_in_class_magnetic}\")\n",
    "print(f\"Fraction of Non-Stable Samples (Magnetic): {fraction_non_stable_in_class_magnetic}\\n\")\n",
    "\n",
    "print(\"Randomly Selected Samples from Test Set:\")\n",
    "print(f\"Fraction of Stable Samples: {fraction_stable_random}\")\n",
    "print(f\"Fraction of Non-Stable Samples: {fraction_non_stable_random}\")"
   ]
  },
  {
   "cell_type": "code",
   "execution_count": null,
   "id": "cbb3fc0d",
   "metadata": {},
   "outputs": [],
   "source": [
    "from sklearn.metrics import accuracy_score, precision_score, recall_score, f1_score, roc_auc_score, confusion_matrix\n",
    "\n",
    "accuracy = accuracy_score(y_true, y_pred)\n",
    "precision = precision_score(y_true, y_pred)\n",
    "recall = recall_score(y_true, y_pred)\n",
    "f1 = f1_score(y_true, y_pred)\n",
    "auc_roc = roc_auc_score(y_true, y_prob)  # y_prob is the predicted probabilities\n",
    "conf_matrix = confusion_matrix(y_true, y_pred)\n",
    "\n",
    "print(f'Accuracy: {accuracy}')\n",
    "print(f'Precision: {precision}')\n",
    "print(f'Recall: {recall}')\n",
    "print(f'F1-Score: {f1}')\n",
    "print(f'AUC-ROC: {auc_roc}')\n",
    "print(f'Confusion Matrix:\\n{conf_matrix}')\n"
   ]
  },
  {
   "cell_type": "code",
   "execution_count": null,
   "id": "d3399aa1",
   "metadata": {},
   "outputs": [],
   "source": []
  }
 ],
 "metadata": {
  "kernelspec": {
   "display_name": "Python 3 (ipykernel)",
   "language": "python",
   "name": "python3"
  },
  "language_info": {
   "codemirror_mode": {
    "name": "ipython",
    "version": 3
   },
   "file_extension": ".py",
   "mimetype": "text/x-python",
   "name": "python",
   "nbconvert_exporter": "python",
   "pygments_lexer": "ipython3",
   "version": "3.7.11"
  }
 },
 "nbformat": 4,
 "nbformat_minor": 5
}
